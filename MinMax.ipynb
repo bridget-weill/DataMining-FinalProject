{
 "cells": [
  {
   "cell_type": "markdown",
   "metadata": {},
   "source": [
    "# __Min Max:__"
   ]
  },
  {
   "cell_type": "markdown",
   "metadata": {},
   "source": [
    "Min Max is one of the most common ways to normalize.  For every feature, the minimum value of that feature gets transformed into a 0, the maximum value gets transformed into a 1, and every other value gets transformed into a decimal between 0 and 1.\n",
    "- For example, if the minimum value of a feature was 20, and the maximum value was 40, then 30 would be transformed to about 0.5 since it is halfway between 20 and 40. \n",
    "\n",
    "*Key Benefit:* Gaurantees all features will have the exact same scale\n",
    "\n",
    "*Key Downside:* Does not handle outliers very well, so this will be important to note as we go through our analysis"
   ]
  },
  {
   "cell_type": "markdown",
   "metadata": {},
   "source": [
    "- Looking back at the box plots, there are obviously a large range of values with many different mins and maxs."
   ]
  },
  {
   "cell_type": "code",
   "execution_count": null,
   "metadata": {},
   "outputs": [],
   "source": [
    "# use MinMaxScaler to transform the data to fit\n",
    "from sklearn.preprocessing import MinMaxScaler\n",
    "\n",
    "# create scaler\n",
    "scaler = MinMaxScaler()\n",
    "\n",
    "# fit and transform in one step\n",
    "compdata_cont = scaler.fit_transform(compdata_cont)\n",
    "\n",
    "# rename the df to make it easier to continue with normalization \n",
    "compdata_cont_transform = pd.DataFrame(compdata_cont)"
   ]
  },
  {
   "cell_type": "code",
   "execution_count": null,
   "metadata": {},
   "outputs": [],
   "source": [
    "# rename the columns back to original after transformation\n",
    "compdata_cont_transform.columns=['C1','C4','T3_','T4_','T5_','S1_','S2_','S3_','C5_','C6_','Imputed_C7']"
   ]
  },
  {
   "cell_type": "code",
   "execution_count": null,
   "metadata": {},
   "outputs": [],
   "source": [
    "# confirm all the data is between 0 and 1 (min and max)\n",
    "compdata_cont_transform.describe()"
   ]
  },
  {
   "cell_type": "markdown",
   "metadata": {},
   "source": [
    "__Boxplot:__"
   ]
  },
  {
   "cell_type": "code",
   "execution_count": null,
   "metadata": {},
   "outputs": [],
   "source": [
    "data.boxplot(vert=False, figsize=(15,10))\n",
    "plt.title('Online Shoppers Intentions Box Plot')\n",
    "plt.show()"
   ]
  },
  {
   "cell_type": "code",
   "execution_count": null,
   "metadata": {},
   "outputs": [],
   "source": [
    "# create a visualization after MinMaxScaler to view the change in the data\n",
    "# the y axis now ranges from 0 to 1 and the values are scaled\n",
    "\n",
    "## Boxplot"
   ]
  },
  {
   "cell_type": "markdown",
   "metadata": {},
   "source": [
    "__Source:__ \n",
    "\n",
    "https://scikit-learn.org/stable/modules/generated/sklearn.preprocessing.MinMaxScaler.html"
   ]
  }
 ],
 "metadata": {
  "kernelspec": {
   "display_name": "Python 3",
   "language": "python",
   "name": "python3"
  },
  "language_info": {
   "codemirror_mode": {
    "name": "ipython",
    "version": 3
   },
   "file_extension": ".py",
   "mimetype": "text/x-python",
   "name": "python",
   "nbconvert_exporter": "python",
   "pygments_lexer": "ipython3",
   "version": "3.6.7"
  }
 },
 "nbformat": 4,
 "nbformat_minor": 4
}
