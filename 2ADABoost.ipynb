{
 "cells": [
  {
   "cell_type": "markdown",
   "metadata": {},
   "source": [
    "# __ADA Boost__\n",
    "## Pipeline 2"
   ]
  },
  {
   "cell_type": "code",
   "execution_count": 32,
   "metadata": {},
   "outputs": [
    {
     "data": {
      "text/html": [
       "<div>\n",
       "<style scoped>\n",
       "    .dataframe tbody tr th:only-of-type {\n",
       "        vertical-align: middle;\n",
       "    }\n",
       "\n",
       "    .dataframe tbody tr th {\n",
       "        vertical-align: top;\n",
       "    }\n",
       "\n",
       "    .dataframe thead th {\n",
       "        text-align: right;\n",
       "    }\n",
       "</style>\n",
       "<table border=\"1\" class=\"dataframe\">\n",
       "  <thead>\n",
       "    <tr style=\"text-align: right;\">\n",
       "      <th></th>\n",
       "      <th>AdministrativeSkew</th>\n",
       "      <th>Administrative_DurationSkew</th>\n",
       "      <th>InformationalSkew</th>\n",
       "      <th>Informational_DurationSkew</th>\n",
       "      <th>ProductRelatedSkew</th>\n",
       "      <th>ProductRelated_DurationSkew</th>\n",
       "      <th>BounceRatesSkew</th>\n",
       "      <th>ExitRatesSkew</th>\n",
       "      <th>PageValuesSkew</th>\n",
       "      <th>SpecialDay_0.0</th>\n",
       "      <th>...</th>\n",
       "      <th>VisitorType_New_Visitor</th>\n",
       "      <th>VisitorType_Other</th>\n",
       "      <th>VisitorType_Returning_Visitor</th>\n",
       "      <th>Weekend_False</th>\n",
       "      <th>Weekend_True</th>\n",
       "      <th>SeasonBins_1</th>\n",
       "      <th>SeasonBins_2</th>\n",
       "      <th>SeasonBins_3</th>\n",
       "      <th>SeasonBins_4</th>\n",
       "      <th>RevenueEnc</th>\n",
       "    </tr>\n",
       "  </thead>\n",
       "  <tbody>\n",
       "    <tr>\n",
       "      <th>0</th>\n",
       "      <td>-0.0</td>\n",
       "      <td>-0.0</td>\n",
       "      <td>-0.0</td>\n",
       "      <td>-0.0</td>\n",
       "      <td>0.001399</td>\n",
       "      <td>-0.000000</td>\n",
       "      <td>0.486759</td>\n",
       "      <td>0.198950</td>\n",
       "      <td>-0.0</td>\n",
       "      <td>1</td>\n",
       "      <td>...</td>\n",
       "      <td>0</td>\n",
       "      <td>0</td>\n",
       "      <td>1</td>\n",
       "      <td>1</td>\n",
       "      <td>0</td>\n",
       "      <td>1</td>\n",
       "      <td>0</td>\n",
       "      <td>0</td>\n",
       "      <td>0</td>\n",
       "      <td>0</td>\n",
       "    </tr>\n",
       "    <tr>\n",
       "      <th>1</th>\n",
       "      <td>-0.0</td>\n",
       "      <td>-0.0</td>\n",
       "      <td>-0.0</td>\n",
       "      <td>-0.0</td>\n",
       "      <td>0.002761</td>\n",
       "      <td>0.031306</td>\n",
       "      <td>-0.000000</td>\n",
       "      <td>0.177272</td>\n",
       "      <td>-0.0</td>\n",
       "      <td>1</td>\n",
       "      <td>...</td>\n",
       "      <td>0</td>\n",
       "      <td>0</td>\n",
       "      <td>1</td>\n",
       "      <td>1</td>\n",
       "      <td>0</td>\n",
       "      <td>1</td>\n",
       "      <td>0</td>\n",
       "      <td>0</td>\n",
       "      <td>0</td>\n",
       "      <td>0</td>\n",
       "    </tr>\n",
       "    <tr>\n",
       "      <th>2</th>\n",
       "      <td>-0.0</td>\n",
       "      <td>-0.0</td>\n",
       "      <td>-0.0</td>\n",
       "      <td>-0.0</td>\n",
       "      <td>0.001399</td>\n",
       "      <td>-0.000000</td>\n",
       "      <td>0.486759</td>\n",
       "      <td>0.198950</td>\n",
       "      <td>-0.0</td>\n",
       "      <td>1</td>\n",
       "      <td>...</td>\n",
       "      <td>0</td>\n",
       "      <td>0</td>\n",
       "      <td>1</td>\n",
       "      <td>1</td>\n",
       "      <td>0</td>\n",
       "      <td>1</td>\n",
       "      <td>0</td>\n",
       "      <td>0</td>\n",
       "      <td>0</td>\n",
       "      <td>0</td>\n",
       "    </tr>\n",
       "    <tr>\n",
       "      <th>3</th>\n",
       "      <td>-0.0</td>\n",
       "      <td>-0.0</td>\n",
       "      <td>-0.0</td>\n",
       "      <td>-0.0</td>\n",
       "      <td>0.002761</td>\n",
       "      <td>0.006454</td>\n",
       "      <td>0.462351</td>\n",
       "      <td>0.190387</td>\n",
       "      <td>-0.0</td>\n",
       "      <td>1</td>\n",
       "      <td>...</td>\n",
       "      <td>0</td>\n",
       "      <td>0</td>\n",
       "      <td>1</td>\n",
       "      <td>1</td>\n",
       "      <td>0</td>\n",
       "      <td>1</td>\n",
       "      <td>0</td>\n",
       "      <td>0</td>\n",
       "      <td>0</td>\n",
       "      <td>0</td>\n",
       "    </tr>\n",
       "    <tr>\n",
       "      <th>4</th>\n",
       "      <td>-0.0</td>\n",
       "      <td>-0.0</td>\n",
       "      <td>-0.0</td>\n",
       "      <td>-0.0</td>\n",
       "      <td>0.012429</td>\n",
       "      <td>0.089834</td>\n",
       "      <td>0.401902</td>\n",
       "      <td>0.136293</td>\n",
       "      <td>-0.0</td>\n",
       "      <td>1</td>\n",
       "      <td>...</td>\n",
       "      <td>0</td>\n",
       "      <td>0</td>\n",
       "      <td>1</td>\n",
       "      <td>0</td>\n",
       "      <td>1</td>\n",
       "      <td>1</td>\n",
       "      <td>0</td>\n",
       "      <td>0</td>\n",
       "      <td>0</td>\n",
       "      <td>0</td>\n",
       "    </tr>\n",
       "  </tbody>\n",
       "</table>\n",
       "<p>5 rows × 75 columns</p>\n",
       "</div>"
      ],
      "text/plain": [
       "   AdministrativeSkew  Administrative_DurationSkew  InformationalSkew  \\\n",
       "0                -0.0                         -0.0               -0.0   \n",
       "1                -0.0                         -0.0               -0.0   \n",
       "2                -0.0                         -0.0               -0.0   \n",
       "3                -0.0                         -0.0               -0.0   \n",
       "4                -0.0                         -0.0               -0.0   \n",
       "\n",
       "   Informational_DurationSkew  ProductRelatedSkew  \\\n",
       "0                        -0.0            0.001399   \n",
       "1                        -0.0            0.002761   \n",
       "2                        -0.0            0.001399   \n",
       "3                        -0.0            0.002761   \n",
       "4                        -0.0            0.012429   \n",
       "\n",
       "   ProductRelated_DurationSkew  BounceRatesSkew  ExitRatesSkew  \\\n",
       "0                    -0.000000         0.486759       0.198950   \n",
       "1                     0.031306        -0.000000       0.177272   \n",
       "2                    -0.000000         0.486759       0.198950   \n",
       "3                     0.006454         0.462351       0.190387   \n",
       "4                     0.089834         0.401902       0.136293   \n",
       "\n",
       "   PageValuesSkew  SpecialDay_0.0  ...  VisitorType_New_Visitor  \\\n",
       "0            -0.0               1  ...                        0   \n",
       "1            -0.0               1  ...                        0   \n",
       "2            -0.0               1  ...                        0   \n",
       "3            -0.0               1  ...                        0   \n",
       "4            -0.0               1  ...                        0   \n",
       "\n",
       "   VisitorType_Other  VisitorType_Returning_Visitor  Weekend_False  \\\n",
       "0                  0                              1              1   \n",
       "1                  0                              1              1   \n",
       "2                  0                              1              1   \n",
       "3                  0                              1              1   \n",
       "4                  0                              1              0   \n",
       "\n",
       "   Weekend_True  SeasonBins_1  SeasonBins_2  SeasonBins_3  SeasonBins_4  \\\n",
       "0             0             1             0             0             0   \n",
       "1             0             1             0             0             0   \n",
       "2             0             1             0             0             0   \n",
       "3             0             1             0             0             0   \n",
       "4             1             1             0             0             0   \n",
       "\n",
       "   RevenueEnc  \n",
       "0           0  \n",
       "1           0  \n",
       "2           0  \n",
       "3           0  \n",
       "4           0  \n",
       "\n",
       "[5 rows x 75 columns]"
      ]
     },
     "execution_count": 32,
     "metadata": {},
     "output_type": "execute_result"
    }
   ],
   "source": [
    "# import required modules\n",
    "import pandas as pd\n",
    "import numpy as np\n",
    "from sklearn import metrics\n",
    "from sklearn.model_selection import train_test_split\n",
    "from sklearn.metrics import classification_report, confusion_matrix\n",
    "from sklearn.metrics import roc_auc_score\n",
    "from sklearn.metrics import precision_recall_fscore_support\n",
    "from sklearn.ensemble import AdaBoostClassifier\n",
    "from sklearn.datasets import make_classification\n",
    "\n",
    "# load dataset\n",
    "adadata = pd.read_csv('pipeline2.csv', header=0)\n",
    "adadata.head()"
   ]
  },
  {
   "cell_type": "markdown",
   "metadata": {},
   "source": [
    "### Split and Resample Data"
   ]
  },
  {
   "cell_type": "code",
   "execution_count": 33,
   "metadata": {},
   "outputs": [
    {
     "data": {
      "text/plain": [
       "array(['AdministrativeSkew', 'Administrative_DurationSkew',\n",
       "       'InformationalSkew', 'Informational_DurationSkew',\n",
       "       'ProductRelatedSkew', 'ProductRelated_DurationSkew',\n",
       "       'BounceRatesSkew', 'ExitRatesSkew', 'PageValuesSkew',\n",
       "       'SpecialDay_0.0', 'SpecialDay_0.2', 'SpecialDay_0.4',\n",
       "       'SpecialDay_0.6', 'SpecialDay_0.8', 'SpecialDay_1.0',\n",
       "       'OperatingSystems_1', 'OperatingSystems_2', 'OperatingSystems_3',\n",
       "       'OperatingSystems_4', 'OperatingSystems_5', 'OperatingSystems_6',\n",
       "       'OperatingSystems_7', 'OperatingSystems_8', 'Browser_1',\n",
       "       'Browser_2', 'Browser_3', 'Browser_4', 'Browser_5', 'Browser_6',\n",
       "       'Browser_7', 'Browser_8', 'Browser_9', 'Browser_10', 'Browser_11',\n",
       "       'Browser_12', 'Browser_13', 'Region_1', 'Region_2', 'Region_3',\n",
       "       'Region_4', 'Region_5', 'Region_6', 'Region_7', 'Region_8',\n",
       "       'Region_9', 'TrafficType_1', 'TrafficType_2', 'TrafficType_3',\n",
       "       'TrafficType_4', 'TrafficType_5', 'TrafficType_6', 'TrafficType_7',\n",
       "       'TrafficType_8', 'TrafficType_9', 'TrafficType_10',\n",
       "       'TrafficType_11', 'TrafficType_12', 'TrafficType_13',\n",
       "       'TrafficType_14', 'TrafficType_15', 'TrafficType_16',\n",
       "       'TrafficType_17', 'TrafficType_18', 'TrafficType_19',\n",
       "       'TrafficType_20', 'VisitorType_New_Visitor', 'VisitorType_Other',\n",
       "       'VisitorType_Returning_Visitor', 'Weekend_False', 'Weekend_True',\n",
       "       'SeasonBins_1', 'SeasonBins_2', 'SeasonBins_3', 'SeasonBins_4',\n",
       "       'RevenueEnc'], dtype=object)"
      ]
     },
     "execution_count": 33,
     "metadata": {},
     "output_type": "execute_result"
    }
   ],
   "source": [
    "adadata.columns.values"
   ]
  },
  {
   "cell_type": "code",
   "execution_count": 34,
   "metadata": {},
   "outputs": [],
   "source": [
    "feature_cols = ['AdministrativeSkew', 'Administrative_DurationSkew',\n",
    "       'InformationalSkew', 'Informational_DurationSkew',\n",
    "       'ProductRelatedSkew', 'ProductRelated_DurationSkew',\n",
    "       'BounceRatesSkew', 'ExitRatesSkew', 'PageValuesSkew',\n",
    "       'SpecialDay_0.0', 'SpecialDay_0.2', 'SpecialDay_0.4',\n",
    "       'SpecialDay_0.6', 'SpecialDay_0.8', 'SpecialDay_1.0',\n",
    "       'OperatingSystems_1', 'OperatingSystems_2', 'OperatingSystems_3',\n",
    "       'OperatingSystems_4', 'OperatingSystems_5', 'OperatingSystems_6',\n",
    "       'OperatingSystems_7', 'OperatingSystems_8', 'Browser_1',\n",
    "       'Browser_2', 'Browser_3', 'Browser_4', 'Browser_5', 'Browser_6',\n",
    "       'Browser_7', 'Browser_8', 'Browser_9', 'Browser_10', 'Browser_11',\n",
    "       'Browser_12', 'Browser_13', 'Region_1', 'Region_2', 'Region_3',\n",
    "       'Region_4', 'Region_5', 'Region_6', 'Region_7', 'Region_8',\n",
    "       'Region_9', 'TrafficType_1', 'TrafficType_2', 'TrafficType_3',\n",
    "       'TrafficType_4', 'TrafficType_5', 'TrafficType_6', 'TrafficType_7',\n",
    "       'TrafficType_8', 'TrafficType_9', 'TrafficType_10',\n",
    "       'TrafficType_11', 'TrafficType_12', 'TrafficType_13',\n",
    "       'TrafficType_14', 'TrafficType_15', 'TrafficType_16',\n",
    "       'TrafficType_17', 'TrafficType_18', 'TrafficType_19',\n",
    "       'TrafficType_20', 'VisitorType_New_Visitor', 'VisitorType_Other',\n",
    "       'VisitorType_Returning_Visitor', 'Weekend_False', 'Weekend_True',\n",
    "       'SeasonBins_1', 'SeasonBins_2', 'SeasonBins_3', 'SeasonBins_4']\n",
    "X = adadata[feature_cols] # Features\n",
    "y = adadata.RevenueEnc # Target variable"
   ]
  },
  {
   "cell_type": "code",
   "execution_count": 35,
   "metadata": {},
   "outputs": [],
   "source": [
    "# Split dataset into training set and test set\n",
    "X_train, X_test, y_train, y_test = train_test_split(X, y, test_size=0.25,random_state=500) # 70% training and 30% test"
   ]
  },
  {
   "cell_type": "code",
   "execution_count": 36,
   "metadata": {},
   "outputs": [],
   "source": [
    "from sklearn.ensemble import AdaBoostClassifier\n",
    "from sklearn.datasets import make_classification\n",
    "\n",
    "ada = AdaBoostClassifier(random_state=500)\n",
    "ada.fit(X_train, y_train)\n",
    "y_pred = ada.predict(X_test)"
   ]
  },
  {
   "cell_type": "code",
   "execution_count": 37,
   "metadata": {},
   "outputs": [
    {
     "data": {
      "text/plain": [
       "array([[2489,  149],\n",
       "       [ 191,  254]])"
      ]
     },
     "execution_count": 37,
     "metadata": {},
     "output_type": "execute_result"
    }
   ],
   "source": [
    "cnf_matrix = metrics.confusion_matrix(y_test, y_pred)\n",
    "cnf_matrix"
   ]
  },
  {
   "cell_type": "code",
   "execution_count": 38,
   "metadata": {},
   "outputs": [
    {
     "name": "stdout",
     "output_type": "stream",
     "text": [
      "F1_Score: 0.5990566037735848\n",
      "AUC: 0.7571521666908025\n",
      "              precision    recall  f1-score   support\n",
      "\n",
      "           0       0.93      0.94      0.94      2638\n",
      "           1       0.63      0.57      0.60       445\n",
      "\n",
      "    accuracy                           0.89      3083\n",
      "   macro avg       0.78      0.76      0.77      3083\n",
      "weighted avg       0.89      0.89      0.89      3083\n",
      "\n"
     ]
    }
   ],
   "source": [
    "print(\"F1_Score:\",metrics.f1_score(y_test, y_pred))\n",
    "print(\"AUC:\",metrics.roc_auc_score(y_test, y_pred))\n",
    "print(classification_report(y_test, y_pred))"
   ]
  },
  {
   "cell_type": "markdown",
   "metadata": {},
   "source": [
    "## __SMOTE__"
   ]
  },
  {
   "cell_type": "code",
   "execution_count": 39,
   "metadata": {},
   "outputs": [
    {
     "name": "stderr",
     "output_type": "stream",
     "text": [
      "/opt/tljh/user/lib/python3.6/site-packages/sklearn/utils/deprecation.py:87: FutureWarning: Function safe_indexing is deprecated; safe_indexing is deprecated in version 0.22 and will be removed in version 0.24.\n",
      "  warnings.warn(msg, category=FutureWarning)\n"
     ]
    }
   ],
   "source": [
    "from imblearn.over_sampling import SMOTE\n",
    "\n",
    "sm = SMOTE(random_state = 123) \n",
    "X_train_smote, y_train_smote = sm.fit_sample(X_train, y_train) "
   ]
  },
  {
   "cell_type": "code",
   "execution_count": 40,
   "metadata": {},
   "outputs": [],
   "source": [
    "ada = AdaBoostClassifier(random_state=500)\n",
    "ada.fit(X_train_smote,y_train_smote)\n",
    "y_pred_smote = ada.predict(X_test)"
   ]
  },
  {
   "cell_type": "code",
   "execution_count": 41,
   "metadata": {},
   "outputs": [
    {
     "data": {
      "text/plain": [
       "array([[2382,  256],\n",
       "       [ 111,  334]])"
      ]
     },
     "execution_count": 41,
     "metadata": {},
     "output_type": "execute_result"
    }
   ],
   "source": [
    "cnf_matrix = metrics.confusion_matrix(y_test, y_pred_smote)\n",
    "cnf_matrix"
   ]
  },
  {
   "cell_type": "code",
   "execution_count": 42,
   "metadata": {},
   "outputs": [
    {
     "name": "stdout",
     "output_type": "stream",
     "text": [
      "F1_Score: 0.6454106280193237\n",
      "AUC: 0.8267592915981634\n",
      "              precision    recall  f1-score   support\n",
      "\n",
      "           0       0.96      0.90      0.93      2638\n",
      "           1       0.57      0.75      0.65       445\n",
      "\n",
      "    accuracy                           0.88      3083\n",
      "   macro avg       0.76      0.83      0.79      3083\n",
      "weighted avg       0.90      0.88      0.89      3083\n",
      "\n"
     ]
    }
   ],
   "source": [
    "print(\"F1_Score:\",metrics.f1_score(y_test, y_pred_smote))\n",
    "print(\"AUC:\",metrics.roc_auc_score(y_test, y_pred_smote))\n",
    "print(classification_report(y_test, y_pred_smote))"
   ]
  },
  {
   "cell_type": "markdown",
   "metadata": {},
   "source": [
    "## __Feature Selection in Scikit-learn__\n",
    "Find important features or selecting features in the dataset. In scikit-learn, you can perform this task in the following steps:\n",
    "\n",
    "- First, create a random forests model.\n",
    "- Second, use the feature importance variable to see feature importance scores.\n",
    "- Third, visualize these scores using the seaborn library."
   ]
  },
  {
   "cell_type": "code",
   "execution_count": 43,
   "metadata": {},
   "outputs": [
    {
     "data": {
      "text/plain": [
       "AdaBoostClassifier(algorithm='SAMME.R', base_estimator=None, learning_rate=1.0,\n",
       "                   n_estimators=50, random_state=500)"
      ]
     },
     "execution_count": 43,
     "metadata": {},
     "output_type": "execute_result"
    }
   ],
   "source": [
    "ada=AdaBoostClassifier(random_state=500)\n",
    "ada.fit(X_train,y_train)"
   ]
  },
  {
   "cell_type": "code",
   "execution_count": 44,
   "metadata": {},
   "outputs": [
    {
     "data": {
      "text/plain": [
       "ProductRelated_DurationSkew      0.16\n",
       "ExitRatesSkew                    0.14\n",
       "PageValuesSkew                   0.10\n",
       "ProductRelatedSkew               0.08\n",
       "Administrative_DurationSkew      0.06\n",
       "SeasonBins_4                     0.04\n",
       "InformationalSkew                0.04\n",
       "BounceRatesSkew                  0.04\n",
       "AdministrativeSkew               0.04\n",
       "Browser_6                        0.02\n",
       "VisitorType_Returning_Visitor    0.02\n",
       "SpecialDay_0.8                   0.02\n",
       "TrafficType_1                    0.02\n",
       "Region_2                         0.02\n",
       "TrafficType_3                    0.02\n",
       "SeasonBins_3                     0.02\n",
       "Browser_12                       0.02\n",
       "VisitorType_New_Visitor          0.02\n",
       "TrafficType_8                    0.02\n",
       "OperatingSystems_4               0.02\n",
       "dtype: float64"
      ]
     },
     "execution_count": 44,
     "metadata": {},
     "output_type": "execute_result"
    }
   ],
   "source": [
    "feature_imp = pd.Series(ada.feature_importances_,index=feature_cols).sort_values(ascending=False).head(10)\n",
    "feature_imp"
   ]
  },
  {
   "cell_type": "markdown",
   "metadata": {},
   "source": [
    "### __Visualization__"
   ]
  },
  {
   "cell_type": "code",
   "execution_count": 45,
   "metadata": {},
   "outputs": [
    {
     "data": {
      "image/png": "[encoded data removed]",
      "text/plain": [
       "<Figure size 432x288 with 1 Axes>"
      ]
     },
     "metadata": {},
     "output_type": "display_data"
    }
   ],
   "source": [
    "import matplotlib.pyplot as plt\n",
    "import seaborn as sns\n",
    "%matplotlib inline\n",
    "plt.style.use('ggplot')\n",
    "sns.barplot(x=feature_imp, y=feature_imp.index)\n",
    "plt.xlabel('Feature Importance Score')\n",
    "plt.ylabel('Features')\n",
    "plt.title(\"Visualizing Important Features\")\n",
    "plt.show()"
   ]
  },
  {
   "cell_type": "code",
   "execution_count": 109,
   "metadata": {},
   "outputs": [],
   "source": [
    "# Import train_test_split function\n",
    "from sklearn.model_selection import train_test_split\n",
    "\n",
    "# Pick the top features\n",
    "# Split dataset into features and labels\n",
    "# Features:\n",
    "fs_X= adadata[['ProductRelated_DurationSkew','ExitRatesSkew','PageValuesSkew',\n",
    "            'ProductRelatedSkew','Administrative_DurationSkew','SeasonBins_4',\n",
    "            'InformationalSkew','BounceRatesSkew','AdministrativeSkew',\n",
    "            'Browser_6']] \n",
    "\n",
    "# Labels:\n",
    "fs_y=adadata['RevenueEnc']    \n",
    "\n",
    "# Split dataset into training set and test set\n",
    "X_train_fs, X_test_fs, y_train_fs, y_test_fs = train_test_split(fs_X, fs_y, test_size=0.30, random_state=200) # 70% training and 30% test"
   ]
  },
  {
   "cell_type": "code",
   "execution_count": 110,
   "metadata": {},
   "outputs": [],
   "source": [
    "ada=AdaBoostClassifier(random_state=500)\n",
    "# fit the model with data\n",
    "ada.fit(X_train_fs,y_train_fs)\n",
    "# predict the model\n",
    "y_pred_fs=ada.predict(X_test_fs)"
   ]
  },
  {
   "cell_type": "code",
   "execution_count": 111,
   "metadata": {},
   "outputs": [
    {
     "name": "stdout",
     "output_type": "stream",
     "text": [
      "F1_Score: 0.6060606060606061\n",
      "AUC: 0.7531604546231069\n",
      "              precision    recall  f1-score   support\n",
      "\n",
      "           0       0.92      0.95      0.93      3126\n",
      "           1       0.66      0.56      0.61       573\n",
      "\n",
      "    accuracy                           0.89      3699\n",
      "   macro avg       0.79      0.75      0.77      3699\n",
      "weighted avg       0.88      0.89      0.88      3699\n",
      "\n"
     ]
    }
   ],
   "source": [
    "print(\"F1_Score:\",metrics.f1_score(y_test_fs, y_pred_fs))\n",
    "print(\"AUC:\",metrics.roc_auc_score(y_test_fs, y_pred_fs))\n",
    "print(classification_report(y_test_fs, y_pred_fs))"
   ]
  },
  {
   "cell_type": "markdown",
   "metadata": {},
   "source": [
    "## __SMOTE Feature Selection__"
   ]
  },
  {
   "cell_type": "code",
   "execution_count": 112,
   "metadata": {},
   "outputs": [
    {
     "name": "stderr",
     "output_type": "stream",
     "text": [
      "/opt/tljh/user/lib/python3.6/site-packages/sklearn/utils/deprecation.py:87: FutureWarning: Function safe_indexing is deprecated; safe_indexing is deprecated in version 0.22 and will be removed in version 0.24.\n",
      "  warnings.warn(msg, category=FutureWarning)\n"
     ]
    }
   ],
   "source": [
    "sm = SMOTE(random_state = 123) \n",
    "X_train_smote_fs, y_train_smote_fs = sm.fit_sample(X_train_fs, y_train_fs) "
   ]
  },
  {
   "cell_type": "code",
   "execution_count": 113,
   "metadata": {},
   "outputs": [],
   "source": [
    "ada=AdaBoostClassifier(random_state=500)\n",
    "# fit the model with data\n",
    "ada.fit(X_train_smote_fs,y_train_smote_fs)\n",
    "# predict the model\n",
    "y_pred_smote_fs=ada.predict(X_test_fs)"
   ]
  },
  {
   "cell_type": "code",
   "execution_count": 114,
   "metadata": {},
   "outputs": [
    {
     "data": {
      "text/plain": [
       "array([[2807,  319],\n",
       "       [ 138,  435]])"
      ]
     },
     "execution_count": 114,
     "metadata": {},
     "output_type": "execute_result"
    }
   ],
   "source": [
    "cnf_matrix = metrics.confusion_matrix(y_test_fs, y_pred_smote_fs)\n",
    "cnf_matrix"
   ]
  },
  {
   "cell_type": "code",
   "execution_count": 115,
   "metadata": {},
   "outputs": [
    {
     "name": "stdout",
     "output_type": "stream",
     "text": [
      "F1_Score: 0.6556141672946496\n",
      "AUC: 0.8285574794076367\n",
      "              precision    recall  f1-score   support\n",
      "\n",
      "           0       0.95      0.90      0.92      3126\n",
      "           1       0.58      0.76      0.66       573\n",
      "\n",
      "    accuracy                           0.88      3699\n",
      "   macro avg       0.77      0.83      0.79      3699\n",
      "weighted avg       0.89      0.88      0.88      3699\n",
      "\n"
     ]
    }
   ],
   "source": [
    "print(\"F1_Score:\",metrics.f1_score(y_test_fs, y_pred_smote_fs))\n",
    "print(\"AUC:\",metrics.roc_auc_score(y_test_fs, y_pred_smote_fs))\n",
    "print(classification_report(y_test_fs, y_pred_smote_fs))"
   ]
  },
  {
   "cell_type": "code",
   "execution_count": null,
   "metadata": {},
   "outputs": [],
   "source": []
  },
  {
   "cell_type": "code",
   "execution_count": null,
   "metadata": {},
   "outputs": [],
   "source": []
  },
  {
   "cell_type": "code",
   "execution_count": null,
   "metadata": {},
   "outputs": [],
   "source": []
  }
 ],
 "metadata": {
  "kernelspec": {
   "display_name": "Python 3",
   "language": "python",
   "name": "python3"
  },
  "language_info": {
   "codemirror_mode": {
    "name": "ipython",
    "version": 3
   },
   "file_extension": ".py",
   "mimetype": "text/x-python",
   "name": "python",
   "nbconvert_exporter": "python",
   "pygments_lexer": "ipython3",
   "version": "3.6.7"
  }
 },
 "nbformat": 4,
 "nbformat_minor": 4
}
