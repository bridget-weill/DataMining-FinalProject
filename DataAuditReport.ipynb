{
 "cells": [
  {
   "cell_type": "markdown",
   "metadata": {},
   "source": [
    "# Data Audit Report - 3/31/20"
   ]
  },
  {
   "cell_type": "markdown",
   "metadata": {},
   "source": [
    "## 1. Business Understanding: Framing Our Analytical Questions: "
   ]
  },
  {
   "cell_type": "markdown",
   "metadata": {},
   "source": [
    "### Research Questions:\n",
    "1. *What are the most common traits that lead to a purchase on the site?*\n",
    "2. *What does the monthly/seasonal data tell us?*\n",
    "3. *How can the findings be applied to a real world problem?*\n",
    "4. *Which modeling technique works best with the dataset?*\n",
    "5. *Do certain browsers or operating systems lead to a purchase?*\n",
    "6. *Which variable predicts Revenue better, VisitorType or Special Day?* \n",
    "\n",
    "Further Analysis can be found here: [Business Understanding - Research](BusinessUnderstanding.ipynb)\n",
    "\n",
    "---"
   ]
  },
  {
   "cell_type": "markdown",
   "metadata": {},
   "source": [
    "## 2. EDA - Exploratory Data Analysis\n",
    "- Importing Packages\n",
    "- Descriptive Statistics\n",
    "- Initial Graphs\n",
    "- Correlation\n",
    "- Data Dictionary\n",
    "\n",
    "[Link to EDA File](ExploratoryDataAnalysis.ipynb)"
   ]
  },
  {
   "cell_type": "markdown",
   "metadata": {},
   "source": [
    "### Data Dictionary\n",
    "- Information on the dataset can be found here: [Data Dictionary](DataDictionary.ipynb)\n",
    "\n",
    "---"
   ]
  },
  {
   "cell_type": "markdown",
   "metadata": {},
   "source": [
    "## 3. Data Preparation\n",
    "\n",
    "### Pipelines"
   ]
  },
  {
   "cell_type": "markdown",
   "metadata": {},
   "source": [
    "Preproccesing, outlier handling, standardization normalization steps.\n",
    "\n",
    "**Pipeline 1**\n",
    "- [Normalization](Normalization.ipynb)\n",
    "- [Z-Score](ZScore.ipynb)\n",
    "- [3 STD](3STD.ipynb)\n",
    "\n",
    "**Pipeline 2**\n",
    "- [IQR](IQR.ipynb)\n",
    "- [Min-Max](MinMax.ipynb)\n",
    "- [Normalization](Normalization.ipynb)\n",
    "\n",
    "**Pipeline 3.1**\n",
    "- [IQR](IQR.ipynb)\n",
    "- [Normalization](Normalization.ipynb)\n",
    "- [Z-Score](ZScore.ipynb)\n",
    "\n",
    "\n",
    "**Pipeline 3.2**\n",
    "- [Min-Max](MinMax.ipynb)\n",
    "- [Normalization](Normalization.ipynb)\n",
    "- [3 STD](3STD.ipynb)\n"
   ]
  },
  {
   "cell_type": "markdown",
   "metadata": {},
   "source": [
    "### Feature Engineering"
   ]
  },
  {
   "cell_type": "markdown",
   "metadata": {},
   "source": [
    "__Example codes that will be used: (feature selection method varies per model)__\n",
    "\n",
    "- Logistic Regression Feature Selection : [RFE](RFELogisticRegFeatSelector.ipynb)\n",
    "- Naive Bayes Feature Selection: [Chi2](NaiveBayesFeatSelection.ipynb)"
   ]
  },
  {
   "cell_type": "markdown",
   "metadata": {},
   "source": [
    "### Next Steps\n",
    "- Implement SMOTE to handle imbalanced data\n",
    "- Funnel data into pipelines\n",
    "- Look further into each variable\n",
    "- Add Binning\n",
    "- Feature Selection\n",
    "- Modeling Techniques"
   ]
  }
 ],
 "metadata": {
  "kernelspec": {
   "display_name": "Python 3",
   "language": "python",
   "name": "python3"
  },
  "language_info": {
   "codemirror_mode": {
    "name": "ipython",
    "version": 3
   },
   "file_extension": ".py",
   "mimetype": "text/x-python",
   "name": "python",
   "nbconvert_exporter": "python",
   "pygments_lexer": "ipython3",
   "version": "3.6.7"
  }
 },
 "nbformat": 4,
 "nbformat_minor": 4
}
