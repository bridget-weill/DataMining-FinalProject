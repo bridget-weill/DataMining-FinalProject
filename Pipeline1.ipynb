{
 "cells": [
  {
   "cell_type": "markdown",
   "metadata": {},
   "source": [
    "# __Pipeline 1__\n",
    "### _Normalization --> Z Score --> 3 STD_"
   ]
  },
  {
   "cell_type": "markdown",
   "metadata": {},
   "source": [
    "## __Import Data__"
   ]
  },
  {
   "cell_type": "code",
   "execution_count": 1,
   "metadata": {},
   "outputs": [],
   "source": [
    "# import required package for data handling\n",
    "import pandas as pd\n",
    "import numpy as np\n",
    "import seaborn as sns\n",
    "import matplotlib as plt\n",
    "import matplotlib.pyplot as plt\n",
    "from pandas import DataFrame\n",
    "%matplotlib inline\n",
    "\n",
    "# import required packages for splitting data\n",
    "from sklearn import model_selection\n",
    "from sklearn.model_selection import cross_val_score\n",
    "from sklearn.model_selection import train_test_split\n",
    "\n",
    "# import required packages for evaluating models\n",
    "from sklearn import metrics\n",
    "from sklearn.metrics import confusion_matrix\n",
    "from sklearn.metrics import classification_report\n",
    "from sklearn.metrics import roc_auc_score\n",
    "from sklearn.metrics import accuracy_score\n",
    "from sklearn.metrics import precision_recall_fscore_support\n",
    "from sklearn.preprocessing import StandardScaler\n",
    "\n",
    "# import `logistic regression` model\n",
    "from sklearn.linear_model import LogisticRegression\n",
    "\n",
    "from scipy.stats import boxcox\n",
    "from scipy import stats"
   ]
  },
  {
   "cell_type": "code",
   "execution_count": 2,
   "metadata": {},
   "outputs": [],
   "source": [
    "data_cat_enc = pd.read_csv('data_cat_enc.csv')"
   ]
  },
  {
   "cell_type": "code",
   "execution_count": 3,
   "metadata": {},
   "outputs": [],
   "source": [
    "data_cont = pd.read_csv('data_cont.csv')"
   ]
  },
  {
   "cell_type": "code",
   "execution_count": 4,
   "metadata": {},
   "outputs": [],
   "source": [
    "target_values = pd.read_csv('target_values.csv')"
   ]
  },
  {
   "cell_type": "markdown",
   "metadata": {},
   "source": [
    "## __Normalization__"
   ]
  },
  {
   "cell_type": "markdown",
   "metadata": {},
   "source": [
    "__Convert:__\n",
    "\n",
    "*Positively Skewed*: square root, cube root, log, 1/x\n",
    "\n",
    "*Negatively Skewed*: square, cubic, exponential\n",
    "\n",
    "- Scipy Features:\n",
    "   - Yeojohnson & boxcox are used to normalize the data\n",
    "   - To use boxcox, all numbers in the column must be positive, if not, use stats.yeojohnson\n",
    "   - Note: add [0] to output 1 column without adding the lambda column\n",
    "   - After using Yeojohnson or boxcox, confirm the skewness through .skew().\n",
    "       - If any values are not between -0.5 and 0.5, use the conversions above to complete the normalization"
   ]
  },
  {
   "cell_type": "code",
   "execution_count": 5,
   "metadata": {},
   "outputs": [
    {
     "data": {
      "text/plain": [
       "Administrative             1.960357\n",
       "Administrative_Duration    5.615719\n",
       "Informational              4.036464\n",
       "Informational_Duration     7.579185\n",
       "ProductRelated             4.341516\n",
       "ProductRelated_Duration    7.263228\n",
       "BounceRates                2.947855\n",
       "ExitRates                  2.148789\n",
       "PageValues                 6.382964\n",
       "dtype: float64"
      ]
     },
     "execution_count": 5,
     "metadata": {},
     "output_type": "execute_result"
    }
   ],
   "source": [
    "data_cont.skew()"
   ]
  },
  {
   "cell_type": "code",
   "execution_count": 6,
   "metadata": {},
   "outputs": [],
   "source": [
    "data_cont[\"AdministrativeSkew\"]= stats.yeojohnson(data_cont[\"Administrative\"])[0]"
   ]
  },
  {
   "cell_type": "code",
   "execution_count": 7,
   "metadata": {},
   "outputs": [],
   "source": [
    "data_cont[\"Administrative_DurationSkew\"]= stats.yeojohnson(data_cont[\"Administrative_Duration\"])[0]"
   ]
  },
  {
   "cell_type": "code",
   "execution_count": 8,
   "metadata": {},
   "outputs": [],
   "source": [
    "data_cont[\"InformationalSkew\"]= stats.yeojohnson(data_cont[\"Informational\"])[0]"
   ]
  },
  {
   "cell_type": "code",
   "execution_count": 9,
   "metadata": {},
   "outputs": [],
   "source": [
    "data_cont[\"Informational_DurationSkew\"]= stats.yeojohnson(data_cont[\"Informational_Duration\"])[0]"
   ]
  },
  {
   "cell_type": "code",
   "execution_count": 10,
   "metadata": {},
   "outputs": [],
   "source": [
    "data_cont[\"ProductRelatedSkew\"]= stats.yeojohnson(data_cont[\"ProductRelated\"])[0]"
   ]
  },
  {
   "cell_type": "code",
   "execution_count": 11,
   "metadata": {},
   "outputs": [],
   "source": [
    "data_cont[\"ProductRelated_DurationSkew\"]= stats.yeojohnson(data_cont[\"ProductRelated_Duration\"])[0]"
   ]
  },
  {
   "cell_type": "code",
   "execution_count": 12,
   "metadata": {},
   "outputs": [],
   "source": [
    "data_cont[\"BounceRatesSkew\"]= stats.yeojohnson(data_cont[\"BounceRates\"])[0]"
   ]
  },
  {
   "cell_type": "code",
   "execution_count": 13,
   "metadata": {},
   "outputs": [],
   "source": [
    "data_cont[\"ExitRatesSkew\"]= stats.yeojohnson(data_cont[\"ExitRates\"])[0]"
   ]
  },
  {
   "cell_type": "code",
   "execution_count": 14,
   "metadata": {},
   "outputs": [],
   "source": [
    "data_cont[\"PageValuesSkew\"]= stats.yeojohnson(data_cont[\"PageValues\"])[0]"
   ]
  },
  {
   "cell_type": "code",
   "execution_count": 15,
   "metadata": {},
   "outputs": [],
   "source": [
    "data_cont_norm = data_cont.drop(['Administrative','Administrative_Duration','Informational','Informational_Duration','ProductRelated','ProductRelated_Duration','BounceRates','ExitRates','PageValues'], axis=1)"
   ]
  },
  {
   "cell_type": "code",
   "execution_count": 16,
   "metadata": {},
   "outputs": [
    {
     "data": {
      "text/plain": [
       "AdministrativeSkew             0.243728\n",
       "Administrative_DurationSkew    0.145485\n",
       "InformationalSkew              1.404111\n",
       "Informational_DurationSkew     1.546903\n",
       "ProductRelatedSkew            -0.002576\n",
       "ProductRelated_DurationSkew   -0.036336\n",
       "BounceRatesSkew                1.032599\n",
       "ExitRatesSkew                  0.433598\n",
       "PageValuesSkew                 1.377420\n",
       "dtype: float64"
      ]
     },
     "execution_count": 16,
     "metadata": {},
     "output_type": "execute_result"
    }
   ],
   "source": [
    "data_cont_norm.skew()"
   ]
  },
  {
   "cell_type": "code",
   "execution_count": 17,
   "metadata": {},
   "outputs": [],
   "source": [
    "data_cont_norm['BounceRatesSkew'] = data_cont_norm['BounceRatesSkew'].apply(np.cbrt)"
   ]
  },
  {
   "cell_type": "code",
   "execution_count": 18,
   "metadata": {},
   "outputs": [
    {
     "data": {
      "text/plain": [
       "0.1328499060914943"
      ]
     },
     "execution_count": 18,
     "metadata": {},
     "output_type": "execute_result"
    }
   ],
   "source": [
    "data_cont_norm['BounceRatesSkew'].skew()"
   ]
  },
  {
   "cell_type": "code",
   "execution_count": 19,
   "metadata": {},
   "outputs": [],
   "source": [
    "data_cont_norm['PageValuesSkew'] = data_cont_norm['PageValuesSkew'].apply(np.sqrt)\n",
    "data_cont_norm['PageValuesSkew'] = data_cont_norm['PageValuesSkew'].apply(np.sqrt)\n",
    "data_cont_norm['PageValuesSkew'] = data_cont_norm['PageValuesSkew'].apply(np.sqrt)\n",
    "data_cont_norm['PageValuesSkew'] = data_cont_norm['PageValuesSkew'].apply(np.sqrt)\n",
    "data_cont_norm['PageValuesSkew'] = data_cont_norm['PageValuesSkew'].apply(np.sqrt)\n",
    "data_cont_norm['PageValuesSkew'] = data_cont_norm['PageValuesSkew'].apply(np.sqrt)\n",
    "data_cont_norm['PageValuesSkew'] = data_cont_norm['PageValuesSkew'].apply(np.sqrt)\n",
    "data_cont_norm['PageValuesSkew'] = data_cont_norm['PageValuesSkew'].apply(np.sqrt)\n",
    "data_cont_norm['PageValuesSkew'] = data_cont_norm['PageValuesSkew'].apply(np.sqrt)"
   ]
  },
  {
   "cell_type": "code",
   "execution_count": 20,
   "metadata": {},
   "outputs": [
    {
     "data": {
      "text/plain": [
       "1.3421245108260518"
      ]
     },
     "execution_count": 20,
     "metadata": {},
     "output_type": "execute_result"
    }
   ],
   "source": [
    "data_cont_norm['PageValuesSkew'].skew()"
   ]
  },
  {
   "cell_type": "code",
   "execution_count": 21,
   "metadata": {},
   "outputs": [],
   "source": [
    "data_cont_norm['InformationalSkew'] = data_cont_norm['InformationalSkew'].apply(np.cbrt)\n",
    "data_cont_norm['InformationalSkew'] = data_cont_norm['InformationalSkew'].apply(np.cbrt)\n",
    "data_cont_norm['InformationalSkew'] = data_cont_norm['InformationalSkew'].apply(np.cbrt)\n",
    "data_cont_norm['InformationalSkew'] = data_cont_norm['InformationalSkew'].apply(np.cbrt)"
   ]
  },
  {
   "cell_type": "code",
   "execution_count": 22,
   "metadata": {},
   "outputs": [
    {
     "data": {
      "text/plain": [
       "1.3993479189518425"
      ]
     },
     "execution_count": 22,
     "metadata": {},
     "output_type": "execute_result"
    }
   ],
   "source": [
    "data_cont_norm['InformationalSkew'].skew()"
   ]
  },
  {
   "cell_type": "code",
   "execution_count": 23,
   "metadata": {},
   "outputs": [],
   "source": [
    "data_cont_norm['Informational_DurationSkew'] = data_cont_norm['Informational_DurationSkew'].apply(np.sqrt)\n",
    "data_cont_norm['Informational_DurationSkew'] = data_cont_norm['Informational_DurationSkew'].apply(np.sqrt)\n",
    "data_cont_norm['Informational_DurationSkew'] = data_cont_norm['Informational_DurationSkew'].apply(np.sqrt)\n",
    "data_cont_norm['Informational_DurationSkew'] = data_cont_norm['Informational_DurationSkew'].apply(np.sqrt)\n",
    "data_cont_norm['Informational_DurationSkew'] = data_cont_norm['Informational_DurationSkew'].apply(np.sqrt)\n",
    "data_cont_norm['Informational_DurationSkew'] = data_cont_norm['Informational_DurationSkew'].apply(np.sqrt)\n",
    "data_cont_norm['Informational_DurationSkew'] = data_cont_norm['Informational_DurationSkew'].apply(np.sqrt)"
   ]
  },
  {
   "cell_type": "code",
   "execution_count": 24,
   "metadata": {},
   "outputs": [
    {
     "data": {
      "text/plain": [
       "1.539387901118679"
      ]
     },
     "execution_count": 24,
     "metadata": {},
     "output_type": "execute_result"
    }
   ],
   "source": [
    "data_cont_norm['Informational_DurationSkew'].skew()"
   ]
  },
  {
   "cell_type": "code",
   "execution_count": 25,
   "metadata": {},
   "outputs": [
    {
     "data": {
      "text/plain": [
       "AdministrativeSkew             0.243728\n",
       "Administrative_DurationSkew    0.145485\n",
       "InformationalSkew              1.399348\n",
       "Informational_DurationSkew     1.539388\n",
       "ProductRelatedSkew            -0.002576\n",
       "ProductRelated_DurationSkew   -0.036336\n",
       "BounceRatesSkew                0.132850\n",
       "ExitRatesSkew                  0.433598\n",
       "PageValuesSkew                 1.342125\n",
       "dtype: float64"
      ]
     },
     "execution_count": 25,
     "metadata": {},
     "output_type": "execute_result"
    }
   ],
   "source": [
    "data_cont_norm.skew()"
   ]
  },
  {
   "cell_type": "markdown",
   "metadata": {},
   "source": [
    "- InformationalSkew, Informational_DurationSkew, and PageValuesSkew are highly skewed because of the distribution of its values.\n",
    "- The majority of the values are 0, making it very hard to correct the skewness; yeojohnson did not skew them to between -0.5 and 0.5.\n",
    "- Doing it by hand after yeojohnson did not correct the skewness much more either."
   ]
  },
  {
   "cell_type": "markdown",
   "metadata": {},
   "source": [
    "## __Z Score__"
   ]
  },
  {
   "cell_type": "code",
   "execution_count": 26,
   "metadata": {},
   "outputs": [],
   "source": [
    "# create scaler\n",
    "scaler = StandardScaler()\n",
    "\n",
    "# fit and transform in one step\n",
    "data_cont_norm = scaler.fit_transform(data_cont_norm)\n",
    "data_cont_transform = pd.DataFrame(data_cont_norm)"
   ]
  },
  {
   "cell_type": "markdown",
   "metadata": {},
   "source": [
    "_Rename the columns back after the transformation_"
   ]
  },
  {
   "cell_type": "code",
   "execution_count": 27,
   "metadata": {},
   "outputs": [],
   "source": [
    "data_cont_transform.columns=['AdministrativeSkew','Administrative_DurationSkew','InformationalSkew','Informational_DurationSkew', \n",
    "                             'ProductRelatedSkew', 'ProductRelated_DurationSkew', 'BounceRatesSkew',\n",
    "                             'ExitRatesSkew', 'PageValuesSkew']"
   ]
  },
  {
   "cell_type": "markdown",
   "metadata": {},
   "source": [
    "__Visualize the Results in a Boxplot:__"
   ]
  },
  {
   "cell_type": "code",
   "execution_count": 28,
   "metadata": {},
   "outputs": [
    {
     "data": {
      "image/png": "[encoded data removed]",
      "text/plain": [
       "<Figure size 1080x720 with 1 Axes>"
      ]
     },
     "metadata": {
      "needs_background": "light"
     },
     "output_type": "display_data"
    }
   ],
   "source": [
    "data_cont_transform.boxplot(vert=False, figsize=(15,10))\n",
    "plt.title('Online Shoppers Intentions Box Plot')\n",
    "plt.show()"
   ]
  },
  {
   "cell_type": "markdown",
   "metadata": {},
   "source": [
    "- As compared to the original boxplot in the EDA, this box plot is more standardized with a smaller range of numbers."
   ]
  },
  {
   "cell_type": "code",
   "execution_count": 29,
   "metadata": {},
   "outputs": [
    {
     "data": {
      "text/html": [
       "<div>\n",
       "<style scoped>\n",
       "    .dataframe tbody tr th:only-of-type {\n",
       "        vertical-align: middle;\n",
       "    }\n",
       "\n",
       "    .dataframe tbody tr th {\n",
       "        vertical-align: top;\n",
       "    }\n",
       "\n",
       "    .dataframe thead th {\n",
       "        text-align: right;\n",
       "    }\n",
       "</style>\n",
       "<table border=\"1\" class=\"dataframe\">\n",
       "  <thead>\n",
       "    <tr style=\"text-align: right;\">\n",
       "      <th></th>\n",
       "      <th>AdministrativeSkew</th>\n",
       "      <th>Administrative_DurationSkew</th>\n",
       "      <th>InformationalSkew</th>\n",
       "      <th>Informational_DurationSkew</th>\n",
       "      <th>ProductRelatedSkew</th>\n",
       "      <th>ProductRelated_DurationSkew</th>\n",
       "      <th>BounceRatesSkew</th>\n",
       "      <th>ExitRatesSkew</th>\n",
       "      <th>PageValuesSkew</th>\n",
       "    </tr>\n",
       "  </thead>\n",
       "  <tbody>\n",
       "    <tr>\n",
       "      <th>count</th>\n",
       "      <td>1.233000e+04</td>\n",
       "      <td>1.233000e+04</td>\n",
       "      <td>1.233000e+04</td>\n",
       "      <td>12330.000000</td>\n",
       "      <td>1.233000e+04</td>\n",
       "      <td>1.233000e+04</td>\n",
       "      <td>1.233000e+04</td>\n",
       "      <td>1.233000e+04</td>\n",
       "      <td>1.233000e+04</td>\n",
       "    </tr>\n",
       "    <tr>\n",
       "      <th>mean</th>\n",
       "      <td>-1.872882e-16</td>\n",
       "      <td>2.189832e-17</td>\n",
       "      <td>-9.220344e-18</td>\n",
       "      <td>0.000000</td>\n",
       "      <td>4.056951e-16</td>\n",
       "      <td>-2.489493e-16</td>\n",
       "      <td>5.186443e-17</td>\n",
       "      <td>9.681361e-17</td>\n",
       "      <td>6.569495e-17</td>\n",
       "    </tr>\n",
       "    <tr>\n",
       "      <th>std</th>\n",
       "      <td>1.000041e+00</td>\n",
       "      <td>1.000041e+00</td>\n",
       "      <td>1.000041e+00</td>\n",
       "      <td>1.000041</td>\n",
       "      <td>1.000041e+00</td>\n",
       "      <td>1.000041e+00</td>\n",
       "      <td>1.000041e+00</td>\n",
       "      <td>1.000041e+00</td>\n",
       "      <td>1.000041e+00</td>\n",
       "    </tr>\n",
       "    <tr>\n",
       "      <th>min</th>\n",
       "      <td>-9.901281e-01</td>\n",
       "      <td>-9.966585e-01</td>\n",
       "      <td>-5.208311e-01</td>\n",
       "      <td>-0.492257</td>\n",
       "      <td>-2.510230e+00</td>\n",
       "      <td>-2.096783e+00</td>\n",
       "      <td>-1.036838e+00</td>\n",
       "      <td>-1.785861e+00</td>\n",
       "      <td>-5.332682e-01</td>\n",
       "    </tr>\n",
       "    <tr>\n",
       "      <th>25%</th>\n",
       "      <td>-9.901281e-01</td>\n",
       "      <td>-9.966585e-01</td>\n",
       "      <td>-5.208311e-01</td>\n",
       "      <td>-0.492257</td>\n",
       "      <td>-7.226106e-01</td>\n",
       "      <td>-6.242660e-01</td>\n",
       "      <td>-1.036838e+00</td>\n",
       "      <td>-7.685399e-01</td>\n",
       "      <td>-5.332682e-01</td>\n",
       "    </tr>\n",
       "    <tr>\n",
       "      <th>50%</th>\n",
       "      <td>9.173732e-02</td>\n",
       "      <td>5.230410e-02</td>\n",
       "      <td>-5.208311e-01</td>\n",
       "      <td>-0.492257</td>\n",
       "      <td>4.187334e-02</td>\n",
       "      <td>2.792895e-02</td>\n",
       "      <td>1.730725e-01</td>\n",
       "      <td>-1.855159e-01</td>\n",
       "      <td>-5.332682e-01</td>\n",
       "    </tr>\n",
       "    <tr>\n",
       "      <th>75%</th>\n",
       "      <td>1.040186e+00</td>\n",
       "      <td>9.814307e-01</td>\n",
       "      <td>-5.208311e-01</td>\n",
       "      <td>-0.492257</td>\n",
       "      <td>6.869881e-01</td>\n",
       "      <td>6.547706e-01</td>\n",
       "      <td>9.221769e-01</td>\n",
       "      <td>7.224596e-01</td>\n",
       "      <td>-5.332682e-01</td>\n",
       "    </tr>\n",
       "    <tr>\n",
       "      <th>max</th>\n",
       "      <td>1.964995e+00</td>\n",
       "      <td>1.995243e+00</td>\n",
       "      <td>1.921048e+00</td>\n",
       "      <td>2.031940</td>\n",
       "      <td>3.375326e+00</td>\n",
       "      <td>5.313616e+00</td>\n",
       "      <td>1.503281e+00</td>\n",
       "      <td>1.982547e+00</td>\n",
       "      <td>1.875522e+00</td>\n",
       "    </tr>\n",
       "  </tbody>\n",
       "</table>\n",
       "</div>"
      ],
      "text/plain": [
       "       AdministrativeSkew  Administrative_DurationSkew  InformationalSkew  \\\n",
       "count        1.233000e+04                 1.233000e+04       1.233000e+04   \n",
       "mean        -1.872882e-16                 2.189832e-17      -9.220344e-18   \n",
       "std          1.000041e+00                 1.000041e+00       1.000041e+00   \n",
       "min         -9.901281e-01                -9.966585e-01      -5.208311e-01   \n",
       "25%         -9.901281e-01                -9.966585e-01      -5.208311e-01   \n",
       "50%          9.173732e-02                 5.230410e-02      -5.208311e-01   \n",
       "75%          1.040186e+00                 9.814307e-01      -5.208311e-01   \n",
       "max          1.964995e+00                 1.995243e+00       1.921048e+00   \n",
       "\n",
       "       Informational_DurationSkew  ProductRelatedSkew  \\\n",
       "count                12330.000000        1.233000e+04   \n",
       "mean                     0.000000        4.056951e-16   \n",
       "std                      1.000041        1.000041e+00   \n",
       "min                     -0.492257       -2.510230e+00   \n",
       "25%                     -0.492257       -7.226106e-01   \n",
       "50%                     -0.492257        4.187334e-02   \n",
       "75%                     -0.492257        6.869881e-01   \n",
       "max                      2.031940        3.375326e+00   \n",
       "\n",
       "       ProductRelated_DurationSkew  BounceRatesSkew  ExitRatesSkew  \\\n",
       "count                 1.233000e+04     1.233000e+04   1.233000e+04   \n",
       "mean                 -2.489493e-16     5.186443e-17   9.681361e-17   \n",
       "std                   1.000041e+00     1.000041e+00   1.000041e+00   \n",
       "min                  -2.096783e+00    -1.036838e+00  -1.785861e+00   \n",
       "25%                  -6.242660e-01    -1.036838e+00  -7.685399e-01   \n",
       "50%                   2.792895e-02     1.730725e-01  -1.855159e-01   \n",
       "75%                   6.547706e-01     9.221769e-01   7.224596e-01   \n",
       "max                   5.313616e+00     1.503281e+00   1.982547e+00   \n",
       "\n",
       "       PageValuesSkew  \n",
       "count    1.233000e+04  \n",
       "mean     6.569495e-17  \n",
       "std      1.000041e+00  \n",
       "min     -5.332682e-01  \n",
       "25%     -5.332682e-01  \n",
       "50%     -5.332682e-01  \n",
       "75%     -5.332682e-01  \n",
       "max      1.875522e+00  "
      ]
     },
     "execution_count": 29,
     "metadata": {},
     "output_type": "execute_result"
    }
   ],
   "source": [
    "data_cont_transform.describe()"
   ]
  },
  {
   "cell_type": "markdown",
   "metadata": {},
   "source": [
    "### __3 STD__"
   ]
  },
  {
   "cell_type": "markdown",
   "metadata": {},
   "source": [
    "__Set the Upper Bound to 3 Standard Deviations Above the Mean:__"
   ]
  },
  {
   "cell_type": "code",
   "execution_count": 30,
   "metadata": {},
   "outputs": [],
   "source": [
    "for col in data_cont_transform.columns:\n",
    "    u_bound = data_cont_transform[col].mean() + 3* data_cont_transform[col].std()\n",
    "    data_cont_transform[col][data_cont_transform[col] > u_bound] = u_bound"
   ]
  },
  {
   "cell_type": "markdown",
   "metadata": {},
   "source": [
    "__Set the Lower Bound to 3 Standard Deviations Below the Mean:__"
   ]
  },
  {
   "cell_type": "code",
   "execution_count": 31,
   "metadata": {},
   "outputs": [],
   "source": [
    "for col in data_cont_transform.columns:\n",
    "    l_bound = data_cont_transform[col].mean() - 3*data_cont_transform[col].std()\n",
    "    data_cont_transform[col][data_cont_transform[col] < l_bound] = l_bound"
   ]
  },
  {
   "cell_type": "markdown",
   "metadata": {},
   "source": [
    "__Visualize the Results in a Boxplot:__"
   ]
  },
  {
   "cell_type": "code",
   "execution_count": 32,
   "metadata": {},
   "outputs": [
    {
     "data": {
      "image/png": "[encoded data removed]",
      "text/plain": [
       "<Figure size 1080x720 with 1 Axes>"
      ]
     },
     "metadata": {
      "needs_background": "light"
     },
     "output_type": "display_data"
    }
   ],
   "source": [
    "data_cont_transform.boxplot(vert=False, figsize=(15,10))\n",
    "plt.title('Online Shoppers Intentions Box Plot')\n",
    "plt.show()"
   ]
  },
  {
   "cell_type": "markdown",
   "metadata": {},
   "source": [
    "- The 3 Standard Deviation transformation standardized the results even further than the Z Score code did. - These two box plots for 3STD and Zscore help to visualize the changes that have been made. In the Zscore code, the max value on x axis is 5 (due to ProductRelated_DurationSkew), and after running the Z Score transformation, the max value of the x axis becomes 3.\n",
    "- Any value above 3 was removed through Zscore, which even removed some outliers from the ProductRelated_DurationSkew column."
   ]
  },
  {
   "cell_type": "markdown",
   "metadata": {},
   "source": [
    "### __Correlation__"
   ]
  },
  {
   "cell_type": "code",
   "execution_count": 33,
   "metadata": {},
   "outputs": [
    {
     "data": {
      "image/png": "[encoded data removed]",
      "text/plain": [
       "<Figure size 1080x648 with 2 Axes>"
      ]
     },
     "metadata": {
      "needs_background": "light"
     },
     "output_type": "display_data"
    }
   ],
   "source": [
    "corr = data_cont_transform.corr()\n",
    "fig, ax = plt.subplots(figsize=(15, 9))\n",
    "sns.heatmap(corr, annot=True, fmt=\".3f\", cmap=\"Blues\")\n",
    "plt.title(\"Correlation Matrix\")\n",
    "plt.show()"
   ]
  },
  {
   "cell_type": "markdown",
   "metadata": {},
   "source": [
    "__Final DataFrame__"
   ]
  },
  {
   "cell_type": "markdown",
   "metadata": {},
   "source": [
    "- Connect all 3 dataframes back together and save them as a csv"
   ]
  },
  {
   "cell_type": "code",
   "execution_count": 34,
   "metadata": {},
   "outputs": [
    {
     "data": {
      "text/html": [
       "<div>\n",
       "<style scoped>\n",
       "    .dataframe tbody tr th:only-of-type {\n",
       "        vertical-align: middle;\n",
       "    }\n",
       "\n",
       "    .dataframe tbody tr th {\n",
       "        vertical-align: top;\n",
       "    }\n",
       "\n",
       "    .dataframe thead th {\n",
       "        text-align: right;\n",
       "    }\n",
       "</style>\n",
       "<table border=\"1\" class=\"dataframe\">\n",
       "  <thead>\n",
       "    <tr style=\"text-align: right;\">\n",
       "      <th></th>\n",
       "      <th>AdministrativeSkew</th>\n",
       "      <th>Administrative_DurationSkew</th>\n",
       "      <th>InformationalSkew</th>\n",
       "      <th>Informational_DurationSkew</th>\n",
       "      <th>ProductRelatedSkew</th>\n",
       "      <th>ProductRelated_DurationSkew</th>\n",
       "      <th>BounceRatesSkew</th>\n",
       "      <th>ExitRatesSkew</th>\n",
       "      <th>PageValuesSkew</th>\n",
       "      <th>SpecialDay_0.0</th>\n",
       "      <th>...</th>\n",
       "      <th>VisitorType_New_Visitor</th>\n",
       "      <th>VisitorType_Other</th>\n",
       "      <th>VisitorType_Returning_Visitor</th>\n",
       "      <th>Weekend_False</th>\n",
       "      <th>Weekend_True</th>\n",
       "      <th>SeasonBins_1</th>\n",
       "      <th>SeasonBins_2</th>\n",
       "      <th>SeasonBins_3</th>\n",
       "      <th>SeasonBins_4</th>\n",
       "      <th>RevenueEnc</th>\n",
       "    </tr>\n",
       "  </thead>\n",
       "  <tbody>\n",
       "    <tr>\n",
       "      <th>0</th>\n",
       "      <td>-0.990128</td>\n",
       "      <td>-0.996659</td>\n",
       "      <td>-0.520831</td>\n",
       "      <td>-0.492257</td>\n",
       "      <td>-1.922123</td>\n",
       "      <td>-2.096783</td>\n",
       "      <td>1.503281</td>\n",
       "      <td>1.982547</td>\n",
       "      <td>-0.533268</td>\n",
       "      <td>1</td>\n",
       "      <td>...</td>\n",
       "      <td>0</td>\n",
       "      <td>0</td>\n",
       "      <td>1</td>\n",
       "      <td>1</td>\n",
       "      <td>0</td>\n",
       "      <td>1</td>\n",
       "      <td>0</td>\n",
       "      <td>0</td>\n",
       "      <td>0</td>\n",
       "      <td>0</td>\n",
       "    </tr>\n",
       "    <tr>\n",
       "      <th>1</th>\n",
       "      <td>-0.990128</td>\n",
       "      <td>-0.996659</td>\n",
       "      <td>-0.520831</td>\n",
       "      <td>-0.492257</td>\n",
       "      <td>-1.574524</td>\n",
       "      <td>-1.074189</td>\n",
       "      <td>-1.036838</td>\n",
       "      <td>1.569866</td>\n",
       "      <td>-0.533268</td>\n",
       "      <td>1</td>\n",
       "      <td>...</td>\n",
       "      <td>0</td>\n",
       "      <td>0</td>\n",
       "      <td>1</td>\n",
       "      <td>1</td>\n",
       "      <td>0</td>\n",
       "      <td>1</td>\n",
       "      <td>0</td>\n",
       "      <td>0</td>\n",
       "      <td>0</td>\n",
       "      <td>0</td>\n",
       "    </tr>\n",
       "    <tr>\n",
       "      <th>2</th>\n",
       "      <td>-0.990128</td>\n",
       "      <td>-0.996659</td>\n",
       "      <td>-0.520831</td>\n",
       "      <td>-0.492257</td>\n",
       "      <td>-1.922123</td>\n",
       "      <td>-2.096783</td>\n",
       "      <td>1.503281</td>\n",
       "      <td>1.982547</td>\n",
       "      <td>-0.533268</td>\n",
       "      <td>1</td>\n",
       "      <td>...</td>\n",
       "      <td>0</td>\n",
       "      <td>0</td>\n",
       "      <td>1</td>\n",
       "      <td>1</td>\n",
       "      <td>0</td>\n",
       "      <td>1</td>\n",
       "      <td>0</td>\n",
       "      <td>0</td>\n",
       "      <td>0</td>\n",
       "      <td>0</td>\n",
       "    </tr>\n",
       "    <tr>\n",
       "      <th>3</th>\n",
       "      <td>-0.990128</td>\n",
       "      <td>-0.996659</td>\n",
       "      <td>-0.520831</td>\n",
       "      <td>-0.492257</td>\n",
       "      <td>-1.574524</td>\n",
       "      <td>-1.875436</td>\n",
       "      <td>1.354717</td>\n",
       "      <td>1.832073</td>\n",
       "      <td>-0.533268</td>\n",
       "      <td>1</td>\n",
       "      <td>...</td>\n",
       "      <td>0</td>\n",
       "      <td>0</td>\n",
       "      <td>1</td>\n",
       "      <td>1</td>\n",
       "      <td>0</td>\n",
       "      <td>1</td>\n",
       "      <td>0</td>\n",
       "      <td>0</td>\n",
       "      <td>0</td>\n",
       "      <td>0</td>\n",
       "    </tr>\n",
       "    <tr>\n",
       "      <th>4</th>\n",
       "      <td>-0.990128</td>\n",
       "      <td>-0.996659</td>\n",
       "      <td>-0.520831</td>\n",
       "      <td>-0.492257</td>\n",
       "      <td>-0.442610</td>\n",
       "      <td>0.057515</td>\n",
       "      <td>1.002737</td>\n",
       "      <td>0.722460</td>\n",
       "      <td>-0.533268</td>\n",
       "      <td>1</td>\n",
       "      <td>...</td>\n",
       "      <td>0</td>\n",
       "      <td>0</td>\n",
       "      <td>1</td>\n",
       "      <td>0</td>\n",
       "      <td>1</td>\n",
       "      <td>1</td>\n",
       "      <td>0</td>\n",
       "      <td>0</td>\n",
       "      <td>0</td>\n",
       "      <td>0</td>\n",
       "    </tr>\n",
       "  </tbody>\n",
       "</table>\n",
       "<p>5 rows × 75 columns</p>\n",
       "</div>"
      ],
      "text/plain": [
       "   AdministrativeSkew  Administrative_DurationSkew  InformationalSkew  \\\n",
       "0           -0.990128                    -0.996659          -0.520831   \n",
       "1           -0.990128                    -0.996659          -0.520831   \n",
       "2           -0.990128                    -0.996659          -0.520831   \n",
       "3           -0.990128                    -0.996659          -0.520831   \n",
       "4           -0.990128                    -0.996659          -0.520831   \n",
       "\n",
       "   Informational_DurationSkew  ProductRelatedSkew  \\\n",
       "0                   -0.492257           -1.922123   \n",
       "1                   -0.492257           -1.574524   \n",
       "2                   -0.492257           -1.922123   \n",
       "3                   -0.492257           -1.574524   \n",
       "4                   -0.492257           -0.442610   \n",
       "\n",
       "   ProductRelated_DurationSkew  BounceRatesSkew  ExitRatesSkew  \\\n",
       "0                    -2.096783         1.503281       1.982547   \n",
       "1                    -1.074189        -1.036838       1.569866   \n",
       "2                    -2.096783         1.503281       1.982547   \n",
       "3                    -1.875436         1.354717       1.832073   \n",
       "4                     0.057515         1.002737       0.722460   \n",
       "\n",
       "   PageValuesSkew  SpecialDay_0.0  ...  VisitorType_New_Visitor  \\\n",
       "0       -0.533268               1  ...                        0   \n",
       "1       -0.533268               1  ...                        0   \n",
       "2       -0.533268               1  ...                        0   \n",
       "3       -0.533268               1  ...                        0   \n",
       "4       -0.533268               1  ...                        0   \n",
       "\n",
       "   VisitorType_Other  VisitorType_Returning_Visitor  Weekend_False  \\\n",
       "0                  0                              1              1   \n",
       "1                  0                              1              1   \n",
       "2                  0                              1              1   \n",
       "3                  0                              1              1   \n",
       "4                  0                              1              0   \n",
       "\n",
       "   Weekend_True  SeasonBins_1  SeasonBins_2  SeasonBins_3  SeasonBins_4  \\\n",
       "0             0             1             0             0             0   \n",
       "1             0             1             0             0             0   \n",
       "2             0             1             0             0             0   \n",
       "3             0             1             0             0             0   \n",
       "4             1             1             0             0             0   \n",
       "\n",
       "   RevenueEnc  \n",
       "0           0  \n",
       "1           0  \n",
       "2           0  \n",
       "3           0  \n",
       "4           0  \n",
       "\n",
       "[5 rows x 75 columns]"
      ]
     },
     "execution_count": 34,
     "metadata": {},
     "output_type": "execute_result"
    }
   ],
   "source": [
    "pipeline1 = pd.concat([data_cont_transform,data_cat_enc,target_values], axis=1)\n",
    "pipeline1.head()"
   ]
  },
  {
   "cell_type": "code",
   "execution_count": 35,
   "metadata": {},
   "outputs": [],
   "source": [
    "pipeline1.to_csv('../project2-deadlinedemons/pipeline1.csv', index=0)"
   ]
  }
 ],
 "metadata": {
  "kernelspec": {
   "display_name": "Python 3",
   "language": "python",
   "name": "python3"
  },
  "language_info": {
   "codemirror_mode": {
    "name": "ipython",
    "version": 3
   },
   "file_extension": ".py",
   "mimetype": "text/x-python",
   "name": "python",
   "nbconvert_exporter": "python",
   "pygments_lexer": "ipython3",
   "version": "3.6.7"
  }
 },
 "nbformat": 4,
 "nbformat_minor": 4
}
