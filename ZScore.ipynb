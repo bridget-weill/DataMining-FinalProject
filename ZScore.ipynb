{
 "cells": [
  {
   "cell_type": "markdown",
   "metadata": {},
   "source": [
    "# __Z Score:__"
   ]
  },
  {
   "cell_type": "markdown",
   "metadata": {},
   "source": [
    "The Z Score measures the number of standard deviations between each data point and the mean of a dataset. \n",
    "\n",
    "It is calculated via the following formula:\n",
    "\n",
    "<img style=\"float: left\" src=\"https://sajeewasp.com/wp-content/uploads/2018/03/z_score_formula1.png\" width=\"300\" height=\"300\" />\n",
    "\n"
   ]
  },
  {
   "cell_type": "markdown",
   "metadata": {},
   "source": [
    "\n",
    "The Z Score is used to scale and transform the data: \n",
    "- Looking back at the box plots, there is clearly a large range of values which offset the data. To get rid of this, the data is scaled to the ZScore.\n",
    "- Large outliers are also minimized by the transforming of the data to the ZScore.\n",
    "- A box plot can be used to check the results, the range should not be as signifigant as it was\n",
    "\n",
    "- Replace *data* with the name of the dataframe being used"
   ]
  },
  {
   "cell_type": "markdown",
   "metadata": {},
   "source": [
    "__Use the Z Score Transformation from scikit-learn:__"
   ]
  },
  {
   "cell_type": "code",
   "execution_count": null,
   "metadata": {},
   "outputs": [],
   "source": [
    "# create scaler\n",
    "scaler = StandardScaler()\n",
    "\n",
    "# fit and transform in one step\n",
    "data_cont = scaler.fit_transform(data_cont)\n",
    "data_cont_transform = pd.DataFrame(data_cont)"
   ]
  },
  {
   "cell_type": "markdown",
   "metadata": {},
   "source": [
    "_Rename the columns back after the transformation_"
   ]
  },
  {
   "cell_type": "code",
   "execution_count": 22,
   "metadata": {},
   "outputs": [],
   "source": [
    "data_cont_transform.columns=['Administrative', 'Administrative_Duration', 'Informational',\n",
    "       'Informational_Duration', 'ProductRelated', 'ProductRelated_Duration',\n",
    "       'BounceRates', 'ExitRates', 'PageValues']"
   ]
  },
  {
   "cell_type": "markdown",
   "metadata": {},
   "source": [
    "__Analyze the Results:__\n",
    "- Boxplot\n",
    "- Describe"
   ]
  },
  {
   "cell_type": "code",
   "execution_count": null,
   "metadata": {},
   "outputs": [],
   "source": [
    "data_cont_transform.boxplot(vert=False, figsize=(15,10))\n",
    "plt.title('Online Shoppers Intentions Box Plot')\n",
    "plt.show()"
   ]
  },
  {
   "cell_type": "code",
   "execution_count": 25,
   "metadata": {},
   "outputs": [
    {
     "data": {
      "text/html": [
       "<div>\n",
       "<style scoped>\n",
       "    .dataframe tbody tr th:only-of-type {\n",
       "        vertical-align: middle;\n",
       "    }\n",
       "\n",
       "    .dataframe tbody tr th {\n",
       "        vertical-align: top;\n",
       "    }\n",
       "\n",
       "    .dataframe thead th {\n",
       "        text-align: right;\n",
       "    }\n",
       "</style>\n",
       "<table border=\"1\" class=\"dataframe\">\n",
       "  <thead>\n",
       "    <tr style=\"text-align: right;\">\n",
       "      <th></th>\n",
       "      <th>Administrative</th>\n",
       "      <th>Administrative_Duration</th>\n",
       "      <th>Informational</th>\n",
       "      <th>Informational_Duration</th>\n",
       "      <th>ProductRelated</th>\n",
       "      <th>ProductRelated_Duration</th>\n",
       "      <th>BounceRates</th>\n",
       "      <th>ExitRates</th>\n",
       "      <th>PageValues</th>\n",
       "      <th>SpecialDay</th>\n",
       "    </tr>\n",
       "  </thead>\n",
       "  <tbody>\n",
       "    <tr>\n",
       "      <th>count</th>\n",
       "      <td>1.233000e+04</td>\n",
       "      <td>1.233000e+04</td>\n",
       "      <td>1.233000e+04</td>\n",
       "      <td>1.233000e+04</td>\n",
       "      <td>1.233000e+04</td>\n",
       "      <td>1.233000e+04</td>\n",
       "      <td>1.233000e+04</td>\n",
       "      <td>1.233000e+04</td>\n",
       "      <td>1.233000e+04</td>\n",
       "      <td>1.233000e+04</td>\n",
       "    </tr>\n",
       "    <tr>\n",
       "      <th>mean</th>\n",
       "      <td>-2.996612e-17</td>\n",
       "      <td>6.338986e-17</td>\n",
       "      <td>-4.610172e-18</td>\n",
       "      <td>-2.074577e-17</td>\n",
       "      <td>4.610172e-17</td>\n",
       "      <td>-1.014238e-16</td>\n",
       "      <td>-5.993223e-17</td>\n",
       "      <td>3.227120e-17</td>\n",
       "      <td>1.060340e-16</td>\n",
       "      <td>-5.532206e-17</td>\n",
       "    </tr>\n",
       "    <tr>\n",
       "      <th>std</th>\n",
       "      <td>1.000041e+00</td>\n",
       "      <td>1.000041e+00</td>\n",
       "      <td>1.000041e+00</td>\n",
       "      <td>1.000041e+00</td>\n",
       "      <td>1.000041e+00</td>\n",
       "      <td>1.000041e+00</td>\n",
       "      <td>1.000041e+00</td>\n",
       "      <td>1.000041e+00</td>\n",
       "      <td>1.000041e+00</td>\n",
       "      <td>1.000041e+00</td>\n",
       "    </tr>\n",
       "    <tr>\n",
       "      <th>min</th>\n",
       "      <td>-6.969930e-01</td>\n",
       "      <td>-4.571914e-01</td>\n",
       "      <td>-3.964779e-01</td>\n",
       "      <td>-2.449305e-01</td>\n",
       "      <td>-7.134884e-01</td>\n",
       "      <td>-6.243475e-01</td>\n",
       "      <td>-4.576830e-01</td>\n",
       "      <td>-8.863706e-01</td>\n",
       "      <td>-3.171778e-01</td>\n",
       "      <td>-3.088214e-01</td>\n",
       "    </tr>\n",
       "    <tr>\n",
       "      <th>25%</th>\n",
       "      <td>-6.969930e-01</td>\n",
       "      <td>-4.571914e-01</td>\n",
       "      <td>-3.964779e-01</td>\n",
       "      <td>-2.449305e-01</td>\n",
       "      <td>-5.560920e-01</td>\n",
       "      <td>-5.281214e-01</td>\n",
       "      <td>-4.576830e-01</td>\n",
       "      <td>-5.923930e-01</td>\n",
       "      <td>-3.171778e-01</td>\n",
       "      <td>-3.088214e-01</td>\n",
       "    </tr>\n",
       "    <tr>\n",
       "      <th>50%</th>\n",
       "      <td>-3.959377e-01</td>\n",
       "      <td>-4.147639e-01</td>\n",
       "      <td>-3.964779e-01</td>\n",
       "      <td>-2.449305e-01</td>\n",
       "      <td>-3.087548e-01</td>\n",
       "      <td>-3.113566e-01</td>\n",
       "      <td>-3.934903e-01</td>\n",
       "      <td>-3.686913e-01</td>\n",
       "      <td>-3.171778e-01</td>\n",
       "      <td>-3.088214e-01</td>\n",
       "    </tr>\n",
       "    <tr>\n",
       "      <th>75%</th>\n",
       "      <td>5.072280e-01</td>\n",
       "      <td>7.035981e-02</td>\n",
       "      <td>-3.964779e-01</td>\n",
       "      <td>-2.449305e-01</td>\n",
       "      <td>1.409492e-01</td>\n",
       "      <td>1.407881e-01</td>\n",
       "      <td>-1.109348e-01</td>\n",
       "      <td>1.425510e-01</td>\n",
       "      <td>-3.171778e-01</td>\n",
       "      <td>-3.088214e-01</td>\n",
       "    </tr>\n",
       "    <tr>\n",
       "      <th>max</th>\n",
       "      <td>7.431499e+00</td>\n",
       "      <td>1.876956e+01</td>\n",
       "      <td>1.849960e+01</td>\n",
       "      <td>1.786868e+01</td>\n",
       "      <td>1.513858e+01</td>\n",
       "      <td>3.280678e+01</td>\n",
       "      <td>3.667189e+00</td>\n",
       "      <td>3.229316e+00</td>\n",
       "      <td>1.916634e+01</td>\n",
       "      <td>4.718598e+00</td>\n",
       "    </tr>\n",
       "  </tbody>\n",
       "</table>\n",
       "</div>"
      ],
      "text/plain": [
       "       Administrative  Administrative_Duration  Informational  \\\n",
       "count    1.233000e+04             1.233000e+04   1.233000e+04   \n",
       "mean    -2.996612e-17             6.338986e-17  -4.610172e-18   \n",
       "std      1.000041e+00             1.000041e+00   1.000041e+00   \n",
       "min     -6.969930e-01            -4.571914e-01  -3.964779e-01   \n",
       "25%     -6.969930e-01            -4.571914e-01  -3.964779e-01   \n",
       "50%     -3.959377e-01            -4.147639e-01  -3.964779e-01   \n",
       "75%      5.072280e-01             7.035981e-02  -3.964779e-01   \n",
       "max      7.431499e+00             1.876956e+01   1.849960e+01   \n",
       "\n",
       "       Informational_Duration  ProductRelated  ProductRelated_Duration  \\\n",
       "count            1.233000e+04    1.233000e+04             1.233000e+04   \n",
       "mean            -2.074577e-17    4.610172e-17            -1.014238e-16   \n",
       "std              1.000041e+00    1.000041e+00             1.000041e+00   \n",
       "min             -2.449305e-01   -7.134884e-01            -6.243475e-01   \n",
       "25%             -2.449305e-01   -5.560920e-01            -5.281214e-01   \n",
       "50%             -2.449305e-01   -3.087548e-01            -3.113566e-01   \n",
       "75%             -2.449305e-01    1.409492e-01             1.407881e-01   \n",
       "max              1.786868e+01    1.513858e+01             3.280678e+01   \n",
       "\n",
       "        BounceRates     ExitRates    PageValues    SpecialDay  \n",
       "count  1.233000e+04  1.233000e+04  1.233000e+04  1.233000e+04  \n",
       "mean  -5.993223e-17  3.227120e-17  1.060340e-16 -5.532206e-17  \n",
       "std    1.000041e+00  1.000041e+00  1.000041e+00  1.000041e+00  \n",
       "min   -4.576830e-01 -8.863706e-01 -3.171778e-01 -3.088214e-01  \n",
       "25%   -4.576830e-01 -5.923930e-01 -3.171778e-01 -3.088214e-01  \n",
       "50%   -3.934903e-01 -3.686913e-01 -3.171778e-01 -3.088214e-01  \n",
       "75%   -1.109348e-01  1.425510e-01 -3.171778e-01 -3.088214e-01  \n",
       "max    3.667189e+00  3.229316e+00  1.916634e+01  4.718598e+00  "
      ]
     },
     "execution_count": 25,
     "metadata": {},
     "output_type": "execute_result"
    }
   ],
   "source": [
    "data_cont_transform.describe()"
   ]
  },
  {
   "cell_type": "markdown",
   "metadata": {},
   "source": [
    "__Source:__ \n",
    "\n",
    "https://sajeewasp.com/the-z-score/"
   ]
  }
 ],
 "metadata": {
  "kernelspec": {
   "display_name": "Python 3",
   "language": "python",
   "name": "python3"
  },
  "language_info": {
   "codemirror_mode": {
    "name": "ipython",
    "version": 3
   },
   "file_extension": ".py",
   "mimetype": "text/x-python",
   "name": "python",
   "nbconvert_exporter": "python",
   "pygments_lexer": "ipython3",
   "version": "3.6.7"
  }
 },
 "nbformat": 4,
 "nbformat_minor": 4
}
