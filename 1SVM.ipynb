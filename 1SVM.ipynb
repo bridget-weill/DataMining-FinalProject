{
 "cells": [
  {
   "cell_type": "markdown",
   "metadata": {},
   "source": [
    "# Support Vector Machines (SVM) - Pipeline 1\n",
    "\n",
    "SVM offers very high accuracy compared to other classifiers such as logistic regression, and decision trees. It is known for its kernel trick to handle **nonlinear** input spaces. It is used in a variety of applications such as face detection, intrusion detection, classification of emails, news articles and web pages, classification of genes, and handwriting recognition.\n",
    "\n",
    "Generally, Support Vector Machines is considered to be a classification approach, it but can be employed in both types of classification and regression problems. It can easily handle multiple continuous and categorical variables. SVM constructs a hyperplane in multidimensional space to separate different classes. SVM generates optimal hyperplane in an iterative manner, which is used to minimize an error. The core idea of SVM is to find a maximum marginal hyperplane(MMH) that best divides the dataset into classes.\n",
    "\n",
    "Via https://docs.google.com/presentation/d/1clcb0XypiyFs77psLixKSaQM8_b_piwv3grOa8MNplE/edit#slide=id.g4ca7083693_0_199\n",
    "- \"In practice, a low degree (<5) polynomial kernel or RBF kernel with a reasonable width is a good initial try. Note that SVM with RBF kernel is closely related to RBF neural networks, with the centers of the radial basis functions automatically chosen for SVM \n",
    "Usually done in trial-and-error.\" - we did an RBF kernel since our data isn't linear\n",
    "- \"SVM are originally designed for binary classification\" - this could be why it works very well, since most of our featurs are binary.  \"Create “dummies” for multi-class target, then train multiple binary classifiers – then combine them\" - what we did when we did one-hot. \n",
    "- \"Usually the best classification performance\" - this is a classification problem, so makes sense."
   ]
  },
  {
   "cell_type": "code",
   "execution_count": 1,
   "metadata": {},
   "outputs": [
    {
     "data": {
      "text/html": [
       "<div>\n",
       "<style scoped>\n",
       "    .dataframe tbody tr th:only-of-type {\n",
       "        vertical-align: middle;\n",
       "    }\n",
       "\n",
       "    .dataframe tbody tr th {\n",
       "        vertical-align: top;\n",
       "    }\n",
       "\n",
       "    .dataframe thead th {\n",
       "        text-align: right;\n",
       "    }\n",
       "</style>\n",
       "<table border=\"1\" class=\"dataframe\">\n",
       "  <thead>\n",
       "    <tr style=\"text-align: right;\">\n",
       "      <th></th>\n",
       "      <th>AdministrativeSkew</th>\n",
       "      <th>Administrative_DurationSkew</th>\n",
       "      <th>InformationalSkew</th>\n",
       "      <th>Informational_DurationSkew</th>\n",
       "      <th>ProductRelatedSkew</th>\n",
       "      <th>ProductRelated_DurationSkew</th>\n",
       "      <th>BounceRatesSkew</th>\n",
       "      <th>ExitRatesSkew</th>\n",
       "      <th>PageValuesSkew</th>\n",
       "      <th>SpecialDay_0.0</th>\n",
       "      <th>...</th>\n",
       "      <th>VisitorType_New_Visitor</th>\n",
       "      <th>VisitorType_Other</th>\n",
       "      <th>VisitorType_Returning_Visitor</th>\n",
       "      <th>Weekend_False</th>\n",
       "      <th>Weekend_True</th>\n",
       "      <th>SeasonBins_1</th>\n",
       "      <th>SeasonBins_2</th>\n",
       "      <th>SeasonBins_3</th>\n",
       "      <th>SeasonBins_4</th>\n",
       "      <th>RevenueEnc</th>\n",
       "    </tr>\n",
       "  </thead>\n",
       "  <tbody>\n",
       "    <tr>\n",
       "      <th>0</th>\n",
       "      <td>-0.990128</td>\n",
       "      <td>-0.996659</td>\n",
       "      <td>-0.520831</td>\n",
       "      <td>-0.492257</td>\n",
       "      <td>-1.922123</td>\n",
       "      <td>-2.096783</td>\n",
       "      <td>1.503281</td>\n",
       "      <td>1.982547</td>\n",
       "      <td>-0.533268</td>\n",
       "      <td>1</td>\n",
       "      <td>...</td>\n",
       "      <td>0</td>\n",
       "      <td>0</td>\n",
       "      <td>1</td>\n",
       "      <td>1</td>\n",
       "      <td>0</td>\n",
       "      <td>1</td>\n",
       "      <td>0</td>\n",
       "      <td>0</td>\n",
       "      <td>0</td>\n",
       "      <td>0</td>\n",
       "    </tr>\n",
       "    <tr>\n",
       "      <th>1</th>\n",
       "      <td>-0.990128</td>\n",
       "      <td>-0.996659</td>\n",
       "      <td>-0.520831</td>\n",
       "      <td>-0.492257</td>\n",
       "      <td>-1.574524</td>\n",
       "      <td>-1.074189</td>\n",
       "      <td>-1.036838</td>\n",
       "      <td>1.569866</td>\n",
       "      <td>-0.533268</td>\n",
       "      <td>1</td>\n",
       "      <td>...</td>\n",
       "      <td>0</td>\n",
       "      <td>0</td>\n",
       "      <td>1</td>\n",
       "      <td>1</td>\n",
       "      <td>0</td>\n",
       "      <td>1</td>\n",
       "      <td>0</td>\n",
       "      <td>0</td>\n",
       "      <td>0</td>\n",
       "      <td>0</td>\n",
       "    </tr>\n",
       "    <tr>\n",
       "      <th>2</th>\n",
       "      <td>-0.990128</td>\n",
       "      <td>-0.996659</td>\n",
       "      <td>-0.520831</td>\n",
       "      <td>-0.492257</td>\n",
       "      <td>-1.922123</td>\n",
       "      <td>-2.096783</td>\n",
       "      <td>1.503281</td>\n",
       "      <td>1.982547</td>\n",
       "      <td>-0.533268</td>\n",
       "      <td>1</td>\n",
       "      <td>...</td>\n",
       "      <td>0</td>\n",
       "      <td>0</td>\n",
       "      <td>1</td>\n",
       "      <td>1</td>\n",
       "      <td>0</td>\n",
       "      <td>1</td>\n",
       "      <td>0</td>\n",
       "      <td>0</td>\n",
       "      <td>0</td>\n",
       "      <td>0</td>\n",
       "    </tr>\n",
       "    <tr>\n",
       "      <th>3</th>\n",
       "      <td>-0.990128</td>\n",
       "      <td>-0.996659</td>\n",
       "      <td>-0.520831</td>\n",
       "      <td>-0.492257</td>\n",
       "      <td>-1.574524</td>\n",
       "      <td>-1.875436</td>\n",
       "      <td>1.354717</td>\n",
       "      <td>1.832073</td>\n",
       "      <td>-0.533268</td>\n",
       "      <td>1</td>\n",
       "      <td>...</td>\n",
       "      <td>0</td>\n",
       "      <td>0</td>\n",
       "      <td>1</td>\n",
       "      <td>1</td>\n",
       "      <td>0</td>\n",
       "      <td>1</td>\n",
       "      <td>0</td>\n",
       "      <td>0</td>\n",
       "      <td>0</td>\n",
       "      <td>0</td>\n",
       "    </tr>\n",
       "    <tr>\n",
       "      <th>4</th>\n",
       "      <td>-0.990128</td>\n",
       "      <td>-0.996659</td>\n",
       "      <td>-0.520831</td>\n",
       "      <td>-0.492257</td>\n",
       "      <td>-0.442610</td>\n",
       "      <td>0.057515</td>\n",
       "      <td>1.002737</td>\n",
       "      <td>0.722460</td>\n",
       "      <td>-0.533268</td>\n",
       "      <td>1</td>\n",
       "      <td>...</td>\n",
       "      <td>0</td>\n",
       "      <td>0</td>\n",
       "      <td>1</td>\n",
       "      <td>0</td>\n",
       "      <td>1</td>\n",
       "      <td>1</td>\n",
       "      <td>0</td>\n",
       "      <td>0</td>\n",
       "      <td>0</td>\n",
       "      <td>0</td>\n",
       "    </tr>\n",
       "  </tbody>\n",
       "</table>\n",
       "<p>5 rows × 75 columns</p>\n",
       "</div>"
      ],
      "text/plain": [
       "   AdministrativeSkew  Administrative_DurationSkew  InformationalSkew  \\\n",
       "0           -0.990128                    -0.996659          -0.520831   \n",
       "1           -0.990128                    -0.996659          -0.520831   \n",
       "2           -0.990128                    -0.996659          -0.520831   \n",
       "3           -0.990128                    -0.996659          -0.520831   \n",
       "4           -0.990128                    -0.996659          -0.520831   \n",
       "\n",
       "   Informational_DurationSkew  ProductRelatedSkew  \\\n",
       "0                   -0.492257           -1.922123   \n",
       "1                   -0.492257           -1.574524   \n",
       "2                   -0.492257           -1.922123   \n",
       "3                   -0.492257           -1.574524   \n",
       "4                   -0.492257           -0.442610   \n",
       "\n",
       "   ProductRelated_DurationSkew  BounceRatesSkew  ExitRatesSkew  \\\n",
       "0                    -2.096783         1.503281       1.982547   \n",
       "1                    -1.074189        -1.036838       1.569866   \n",
       "2                    -2.096783         1.503281       1.982547   \n",
       "3                    -1.875436         1.354717       1.832073   \n",
       "4                     0.057515         1.002737       0.722460   \n",
       "\n",
       "   PageValuesSkew  SpecialDay_0.0  ...  VisitorType_New_Visitor  \\\n",
       "0       -0.533268               1  ...                        0   \n",
       "1       -0.533268               1  ...                        0   \n",
       "2       -0.533268               1  ...                        0   \n",
       "3       -0.533268               1  ...                        0   \n",
       "4       -0.533268               1  ...                        0   \n",
       "\n",
       "   VisitorType_Other  VisitorType_Returning_Visitor  Weekend_False  \\\n",
       "0                  0                              1              1   \n",
       "1                  0                              1              1   \n",
       "2                  0                              1              1   \n",
       "3                  0                              1              1   \n",
       "4                  0                              1              0   \n",
       "\n",
       "   Weekend_True  SeasonBins_1  SeasonBins_2  SeasonBins_3  SeasonBins_4  \\\n",
       "0             0             1             0             0             0   \n",
       "1             0             1             0             0             0   \n",
       "2             0             1             0             0             0   \n",
       "3             0             1             0             0             0   \n",
       "4             1             1             0             0             0   \n",
       "\n",
       "   RevenueEnc  \n",
       "0           0  \n",
       "1           0  \n",
       "2           0  \n",
       "3           0  \n",
       "4           0  \n",
       "\n",
       "[5 rows x 75 columns]"
      ]
     },
     "execution_count": 1,
     "metadata": {},
     "output_type": "execute_result"
    }
   ],
   "source": [
    "#import pandas\n",
    "import pandas as pd\n",
    "\n",
    "# ignore warnings\n",
    "\n",
    "import warnings\n",
    "warnings.filterwarnings('ignore')\n",
    "\n",
    "# load dataset\n",
    "svmdata = pd.read_csv('./pipeline1.csv', header=0)\n",
    "svmdata.head()"
   ]
  },
  {
   "cell_type": "markdown",
   "metadata": {},
   "source": [
    "## Select Features\n",
    "\n",
    "Divide the given columns into two types of variables dependent(or target variable) and independent variable(or feature variables)."
   ]
  },
  {
   "cell_type": "code",
   "execution_count": 2,
   "metadata": {
    "collapsed": false
   },
   "outputs": [
    {
     "data": {
      "text/plain": [
       "array(['AdministrativeSkew', 'Administrative_DurationSkew',\n",
       "       'InformationalSkew', 'Informational_DurationSkew',\n",
       "       'ProductRelatedSkew', 'ProductRelated_DurationSkew',\n",
       "       'BounceRatesSkew', 'ExitRatesSkew', 'PageValuesSkew',\n",
       "       'SpecialDay_0.0', 'SpecialDay_0.2', 'SpecialDay_0.4',\n",
       "       'SpecialDay_0.6', 'SpecialDay_0.8', 'SpecialDay_1.0',\n",
       "       'OperatingSystems_1', 'OperatingSystems_2', 'OperatingSystems_3',\n",
       "       'OperatingSystems_4', 'OperatingSystems_5', 'OperatingSystems_6',\n",
       "       'OperatingSystems_7', 'OperatingSystems_8', 'Browser_1',\n",
       "       'Browser_2', 'Browser_3', 'Browser_4', 'Browser_5', 'Browser_6',\n",
       "       'Browser_7', 'Browser_8', 'Browser_9', 'Browser_10', 'Browser_11',\n",
       "       'Browser_12', 'Browser_13', 'Region_1', 'Region_2', 'Region_3',\n",
       "       'Region_4', 'Region_5', 'Region_6', 'Region_7', 'Region_8',\n",
       "       'Region_9', 'TrafficType_1', 'TrafficType_2', 'TrafficType_3',\n",
       "       'TrafficType_4', 'TrafficType_5', 'TrafficType_6', 'TrafficType_7',\n",
       "       'TrafficType_8', 'TrafficType_9', 'TrafficType_10',\n",
       "       'TrafficType_11', 'TrafficType_12', 'TrafficType_13',\n",
       "       'TrafficType_14', 'TrafficType_15', 'TrafficType_16',\n",
       "       'TrafficType_17', 'TrafficType_18', 'TrafficType_19',\n",
       "       'TrafficType_20', 'VisitorType_New_Visitor', 'VisitorType_Other',\n",
       "       'VisitorType_Returning_Visitor', 'Weekend_False', 'Weekend_True',\n",
       "       'SeasonBins_1', 'SeasonBins_2', 'SeasonBins_3', 'SeasonBins_4',\n",
       "       'RevenueEnc'], dtype=object)"
      ]
     },
     "execution_count": 2,
     "metadata": {},
     "output_type": "execute_result"
    }
   ],
   "source": [
    "svmdata.columns.values"
   ]
  },
  {
   "cell_type": "code",
   "execution_count": 3,
   "metadata": {
    "collapsed": true
   },
   "outputs": [],
   "source": [
    "feature_cols = ['AdministrativeSkew', 'Administrative_DurationSkew',\n",
    "       'InformationalSkew', 'Informational_DurationSkew',\n",
    "       'ProductRelatedSkew', 'ProductRelated_DurationSkew',\n",
    "       'BounceRatesSkew', 'ExitRatesSkew', 'PageValuesSkew',\n",
    "       'SpecialDay_0.0', 'SpecialDay_0.2', 'SpecialDay_0.4',\n",
    "       'SpecialDay_0.6', 'SpecialDay_0.8', 'SpecialDay_1.0',\n",
    "       'OperatingSystems_1', 'OperatingSystems_2', 'OperatingSystems_3',\n",
    "       'OperatingSystems_4', 'OperatingSystems_5', 'OperatingSystems_6',\n",
    "       'OperatingSystems_7', 'OperatingSystems_8', 'Browser_1',\n",
    "       'Browser_2', 'Browser_3', 'Browser_4', 'Browser_5', 'Browser_6',\n",
    "       'Browser_7', 'Browser_8', 'Browser_9', 'Browser_10', 'Browser_11',\n",
    "       'Browser_12', 'Browser_13', 'Region_1', 'Region_2', 'Region_3',\n",
    "       'Region_4', 'Region_5', 'Region_6', 'Region_7', 'Region_8',\n",
    "       'Region_9', 'TrafficType_1', 'TrafficType_2', 'TrafficType_3',\n",
    "       'TrafficType_4', 'TrafficType_5', 'TrafficType_6', 'TrafficType_7',\n",
    "       'TrafficType_8', 'TrafficType_9', 'TrafficType_10',\n",
    "       'TrafficType_11', 'TrafficType_12', 'TrafficType_13',\n",
    "       'TrafficType_14', 'TrafficType_15', 'TrafficType_16',\n",
    "       'TrafficType_17', 'TrafficType_18', 'TrafficType_19',\n",
    "       'TrafficType_20', 'VisitorType_New_Visitor', 'VisitorType_Other',\n",
    "       'VisitorType_Returning_Visitor', 'Weekend_False', 'Weekend_True',\n",
    "       'SeasonBins_1', 'SeasonBins_2', 'SeasonBins_3', 'SeasonBins_4']\n",
    "x = svmdata[feature_cols] # Features\n",
    "y = svmdata.RevenueEnc # Target variable"
   ]
  },
  {
   "cell_type": "markdown",
   "metadata": {},
   "source": [
    "## Split Data\n",
    "\n",
    "Divide the dataset into a training set and a test set.\n",
    "\n",
    "Use function train_test_split()\n",
    "\n",
    "Pass 3 parameters features, target, and test_set size. (can use random_state to select records randomly)"
   ]
  },
  {
   "cell_type": "code",
   "execution_count": 4,
   "metadata": {},
   "outputs": [],
   "source": [
    "# Import train_test_split function\n",
    "from sklearn.model_selection import train_test_split\n",
    "\n",
    "# Split dataset into training set and test set\n",
    "X_train, X_test, y_train, y_test = train_test_split(x, y, test_size=0.3,random_state=2019)\n"
   ]
  },
  {
   "cell_type": "markdown",
   "metadata": {},
   "source": [
    "### Generating Model\n",
    "Let's build support vector machine model. First, import the SVM module and create support vector classifier object by passing argument kernel as the linear kernel in `SVC()` function.\n",
    "\n",
    "Then, fit your model on train set using `fit()` and perform prediction on the test set using `predict()`."
   ]
  },
  {
   "cell_type": "code",
   "execution_count": 5,
   "metadata": {},
   "outputs": [],
   "source": [
    "#Import svm model\n",
    "from sklearn import svm\n",
    "\n",
    "#Create a svm Classifier\n",
    "clf = svm.SVC (kernel='rbf') # non-linear\n",
    "\n",
    "#Train the model using the training sets\n",
    "clf.fit(X_train, y_train)\n",
    "\n",
    "#Predict the response for test dataset\n",
    "y_pred = clf.predict(X_test)"
   ]
  },
  {
   "cell_type": "markdown",
   "metadata": {},
   "source": [
    "### Evaluating the Model\n",
    "Let's estimate how accurately the classifier or model can predict the breast cancer of patients.\n",
    "\n",
    "Accuracy can be computed by comparing actual test set values and predicted values."
   ]
  },
  {
   "cell_type": "code",
   "execution_count": 6,
   "metadata": {},
   "outputs": [
    {
     "name": "stdout",
     "output_type": "stream",
     "text": [
      "F1_Score: 0.6258503401360545\n",
      "AUC: 0.7612533231969267\n"
     ]
    }
   ],
   "source": [
    "#Import scikit-learn metrics module for accuracy calculation\n",
    "from sklearn import metrics\n",
    "\n",
    "# F1 Score\n",
    "print(\"F1_Score:\",metrics.f1_score(y_test, y_pred))\n",
    "\n",
    "# AUC\n",
    "print(\"AUC:\",metrics.roc_auc_score(y_test, y_pred))"
   ]
  },
  {
   "cell_type": "markdown",
   "metadata": {},
   "source": [
    "## With SMOTE\n",
    "Now we will examine the results when applying SMOTE."
   ]
  },
  {
   "cell_type": "code",
   "execution_count": 9,
   "metadata": {},
   "outputs": [],
   "source": [
    "from imblearn.over_sampling import SMOTE\n",
    "\n",
    "#create  oversampled data to train on\n",
    "oversampler = SMOTE(random_state = 2019)\n",
    "X_train_oversampled, y_train_oversampled = oversampler.fit_resample(X_train, y_train)"
   ]
  },
  {
   "cell_type": "code",
   "execution_count": null,
   "metadata": {},
   "outputs": [],
   "source": [
    "#Import svm model\n",
    "from sklearn import svm\n",
    "\n",
    "#Create a svm Classifier\n",
    "clf = svm.SVC(kernel='rbf') # non-linear\n",
    "\n",
    "#Train the model using the training sets\n",
    "clf.fit(X_train_oversampled,y_train_oversampled)\n",
    "\n",
    "#Predict the response for test dataset\n",
    "y_pred_smote = clf.predict(X_test)"
   ]
  },
  {
   "cell_type": "code",
   "execution_count": null,
   "metadata": {},
   "outputs": [],
   "source": [
    "#Import scikit-learn metrics module for accuracy calculation\n",
    "from sklearn import metrics\n",
    "\n",
    "# F1 Score\n",
    "print(\"F1_Score:\",metrics.f1_score(y_test, y_pred_smote))\n",
    "\n",
    "# AUC\n",
    "print(\"AUC:\",metrics.roc_auc_score(y_test, y_pred_smote))"
   ]
  },
  {
   "cell_type": "markdown",
   "metadata": {},
   "source": [
    "---\n",
    "\n",
    "# Running SVM with Selected Features - Top 15 Highest Scores\n",
    "Reducing amount of features to see if the highest scoring ones from [this feature selection process](1SVM_FeatSelect_Sean.ipynb) perform with better results,"
   ]
  },
  {
   "cell_type": "code",
   "execution_count": null,
   "metadata": {},
   "outputs": [],
   "source": [
    "# make copy of data\n",
    "\n",
    "svmdata_FS = svmdata.copy()"
   ]
  },
  {
   "cell_type": "code",
   "execution_count": null,
   "metadata": {},
   "outputs": [],
   "source": [
    "# top 20\n",
    "#feature_cols_FS =     ['PageValuesSkew','ExitRatesSkew','ProductRelated_DurationSkew','ProductRelatedSkew','AdministrativeSkew','Administrative_DurationSkew',\n",
    "#'SeasonBins_4','BounceRatesSkew','SeasonBins_2','TrafficType_2','InformationalSkew','Informational_DurationSkew','VisitorType_New_Visitor','VisitorType_Returning_Visitor',\n",
    "#'SpecialDay_0.0','TrafficType_3']\n",
    "\n",
    "\n",
    "# top 30\n",
    "#feature_cols_FS =     ['PageValuesSkew','ExitRatesSkew','ProductRelated_DurationSkew','ProductRelatedSkew','AdministrativeSkew','Administrative_DurationSkew',\n",
    "#'SeasonBins_4','BounceRatesSkew','SeasonBins_2','TrafficType_2','InformationalSkew','Informational_DurationSkew','VisitorType_New_Visitor','VisitorType_Returning_Visitor',\n",
    "#'SpecialDay_0.0','TrafficType_3','OperatingSystems_3','TrafficType_13','TrafficType_1','OperatingSystems_2','TrafficType_8','SpecialDay_0.8','SeasonBins_1',\n",
    "#'SpecialDay_0.4','TrafficType_20','SpecialDay_0.6','Weekend_True','Weekend_False','SpecialDay_1.0','Browser_3'] \n",
    "\n",
    "# top 15 - best performer (with SMOTE)\n",
    "feature_cols_FS =     ['PageValuesSkew','ExitRatesSkew','ProductRelated_DurationSkew','ProductRelatedSkew','AdministrativeSkew','Administrative_DurationSkew',\n",
    "'SeasonBins_4','BounceRatesSkew','SeasonBins_2','TrafficType_2','InformationalSkew','Informational_DurationSkew','VisitorType_New_Visitor','VisitorType_Returning_Visitor',\n",
    "'SpecialDay_0.0']\n",
    "\n",
    "# top 10\n",
    "#feature_cols_FS =     ['PageValuesSkew','ExitRatesSkew','ProductRelated_DurationSkew','ProductRelatedSkew','AdministrativeSkew','Administrative_DurationSkew',\n",
    "#'SeasonBins_4','BounceRatesSkew','SeasonBins_2','TrafficType_2']\n",
    "\n",
    "\n",
    "x2 = svmdata_FS[feature_cols_FS] # Features\n",
    "y2 = svmdata_FS.RevenueEnc # Target variable"
   ]
  },
  {
   "cell_type": "markdown",
   "metadata": {},
   "source": [
    "## Split Data\n",
    "\n",
    "Divide the dataset into a training set and a test set.\n",
    "\n",
    "Use function train_test_split()\n",
    "\n",
    "Pass 3 parameters features, target, and test_set size. (can use random_state to select records randomly)"
   ]
  },
  {
   "cell_type": "code",
   "execution_count": null,
   "metadata": {},
   "outputs": [],
   "source": [
    "# Import train_test_split function\n",
    "from sklearn.model_selection import train_test_split\n",
    "\n",
    "# Split dataset into training set and test set\n",
    "X_train, X_test, y_train, y_test = train_test_split(x2, y2, test_size=0.3,random_state=2019)\n"
   ]
  },
  {
   "cell_type": "markdown",
   "metadata": {},
   "source": [
    "### Generating Model\n",
    "Let's build support vector machine model. First, import the SVM module and create support vector classifier object by passing argument kernel as the linear kernel in `SVC()` function.\n",
    "\n",
    "Then, fit your model on train set using `fit()` and perform prediction on the test set using `predict()`."
   ]
  },
  {
   "cell_type": "code",
   "execution_count": 13,
   "metadata": {},
   "outputs": [],
   "source": [
    "#Import svm model\n",
    "from sklearn import svm\n",
    "\n",
    "#Create a svm Classifier\n",
    "clf = svm.SVC (kernel='rbf') # non-linear\n",
    "\n",
    "#Train the model using the training sets\n",
    "clf.fit(X_train, y_train)\n",
    "\n",
    "#Predict the response for test dataset\n",
    "y_pred = clf.predict(X_test)"
   ]
  },
  {
   "cell_type": "markdown",
   "metadata": {},
   "source": [
    "### Evaluating the Model\n",
    "Let's estimate how accurately the classifier or model can predict the breast cancer of patients.\n",
    "\n",
    "Accuracy can be computed by comparing actual test set values and predicted values."
   ]
  },
  {
   "cell_type": "code",
   "execution_count": 14,
   "metadata": {},
   "outputs": [
    {
     "name": "stdout",
     "output_type": "stream",
     "text": [
      "F1_Score: 0.6288461538461537\n",
      "AUC: 0.7646965713154686\n"
     ]
    }
   ],
   "source": [
    "#Import scikit-learn metrics module for accuracy calculation\n",
    "from sklearn import metrics\n",
    "\n",
    "# F1 Score\n",
    "print(\"F1_Score:\",metrics.f1_score(y_test, y_pred))\n",
    "\n",
    "# AUC\n",
    "print(\"AUC:\",metrics.roc_auc_score(y_test, y_pred))"
   ]
  },
  {
   "cell_type": "markdown",
   "metadata": {},
   "source": [
    "## With SMOTE - BEST PERFORMER!\n",
    "Now we will examine the results when applying SMOTE."
   ]
  },
  {
   "cell_type": "code",
   "execution_count": 15,
   "metadata": {},
   "outputs": [],
   "source": [
    "from imblearn.over_sampling import SMOTE\n",
    "\n",
    "#create  oversampled data to train on\n",
    "oversampler = SMOTE(random_state = 2019)\n",
    "X_train_oversampled, y_train_oversampled = oversampler.fit_resample(X_train, y_train)"
   ]
  },
  {
   "cell_type": "code",
   "execution_count": 16,
   "metadata": {},
   "outputs": [],
   "source": [
    "#Import svm model\n",
    "from sklearn import svm\n",
    "\n",
    "#Create a svm Classifier\n",
    "clf = svm.SVC(kernel='rbf') # non-linear\n",
    "\n",
    "#Train the model using the training sets\n",
    "clf.fit(X_train_oversampled,y_train_oversampled)\n",
    "\n",
    "#Predict the response for test dataset\n",
    "y_pred_smote = clf.predict(X_test)"
   ]
  },
  {
   "cell_type": "code",
   "execution_count": 17,
   "metadata": {},
   "outputs": [
    {
     "name": "stdout",
     "output_type": "stream",
     "text": [
      "F1_Score: 0.6445623342175065\n",
      "AUC: 0.8553161029415073\n"
     ]
    }
   ],
   "source": [
    "#Import scikit-learn metrics module for accuracy calculation\n",
    "from sklearn import metrics\n",
    "\n",
    "\n",
    "# F1 Score\n",
    "print(\"F1_Score:\",metrics.f1_score(y_test, y_pred_smote))\n",
    "\n",
    "# AUC\n",
    "print(\"AUC:\",metrics.roc_auc_score(y_test, y_pred_smote))"
   ]
  },
  {
   "cell_type": "code",
   "execution_count": 19,
   "metadata": {},
   "outputs": [
    {
     "name": "stdout",
     "output_type": "stream",
     "text": [
      "Accuracy: 0.8550959718842931\n",
      "Precision: 0.5170212765957447\n",
      "Recall: 0.8556338028169014\n",
      "              precision    recall  f1-score   support\n",
      "\n",
      "           0       0.97      0.85      0.91      3131\n",
      "           1       0.52      0.86      0.64       568\n",
      "\n",
      "    accuracy                           0.86      3699\n",
      "   macro avg       0.74      0.86      0.78      3699\n",
      "weighted avg       0.90      0.86      0.87      3699\n",
      "\n"
     ]
    }
   ],
   "source": [
    "from sklearn.metrics import classification_report, confusion_matrix\n",
    "print(\"Accuracy:\",metrics.accuracy_score(y_test, y_pred_smote))\n",
    "print(\"Precision:\",metrics.precision_score(y_test, y_pred_smote))\n",
    "print(\"Recall:\",metrics.recall_score(y_test, y_pred_smote))\n",
    "print(classification_report(y_test, y_pred_smote))"
   ]
  }
 ],
 "metadata": {
  "kernelspec": {
   "display_name": "Python 3",
   "language": "python",
   "name": "python3"
  },
  "language_info": {
   "codemirror_mode": {
    "name": "ipython",
    "version": 3
   },
   "file_extension": ".py",
   "mimetype": "text/x-python",
   "name": "python",
   "nbconvert_exporter": "python",
   "pygments_lexer": "ipython3",
   "version": "3.6.7"
  }
 },
 "nbformat": 4,
 "nbformat_minor": 2
}
