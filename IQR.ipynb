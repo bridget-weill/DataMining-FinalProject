{
 "cells": [
  {
   "cell_type": "markdown",
   "metadata": {},
   "source": [
    "# __Interquartile Range__"
   ]
  },
  {
   "cell_type": "markdown",
   "metadata": {},
   "source": [
    "The interquartile range (IQR) measures the variabililty and spread of a dataset. It is calculated as the difference between the upper and lower quartile values in a set of data. The interquartile range is used to determine and handle outliers.\n",
    "- Looking back at the box plots, there are obviously outliers in the dataset; these outliers are represented by the black dots on the plot.\n",
    "- A loop is then used to determine and replace the numbers outside the upper and lower bounds. IQR determines these upper and lower bounds through the following formulas:\n",
    "    - UpperBound = Q3 + (1.5 * (Q3 - Q1))\n",
    "    - LowerBound = Q1 - (1.5 * (Q3 - Q1))\n",
    "- Next, the for loop will replace the data outside of these bounds with the IQR\n",
    "    - If the value is > UpperBound, it will be replaced with the UpperBound value\n",
    "    - If the value is < LowerBound, it will be replaced with the LowerBound value\n",
    "- A box plot can be used to check the results, there should be no black dotted outliers on the plot anymore\n",
    "\n",
    "- Replace *data* with the name of the dataframe being used"
   ]
  },
  {
   "cell_type": "markdown",
   "metadata": {},
   "source": [
    "__Upper Bound:__"
   ]
  },
  {
   "cell_type": "code",
   "execution_count": null,
   "metadata": {},
   "outputs": [],
   "source": [
    "for col in data.columns:\n",
    "    u_bound = data[col].quantile(0.75) + (1.5*(data[col].quantile(0.75)-data[col].quantile(0.25)))\n",
    "    data[col][data[col] > u_bound] = u_bound"
   ]
  },
  {
   "cell_type": "markdown",
   "metadata": {},
   "source": [
    "__Lower Bound:__"
   ]
  },
  {
   "cell_type": "code",
   "execution_count": null,
   "metadata": {},
   "outputs": [],
   "source": [
    "for col in data.columns:\n",
    "    l_bound = data[col].quantile(0.25) - (1.5*(data[col].quantile(0.75)-data[col].quantile(0.25)))\n",
    "    data[col][data[col] < l_bound] = l_bound"
   ]
  },
  {
   "cell_type": "markdown",
   "metadata": {},
   "source": [
    "__Box Plot:__"
   ]
  },
  {
   "cell_type": "code",
   "execution_count": null,
   "metadata": {},
   "outputs": [],
   "source": [
    "data.boxplot(vert=False, figsize=(15,10))\n",
    "plt.title('Online Shoppers Intentions Box Plot')\n",
    "plt.show()"
   ]
  }
 ],
 "metadata": {
  "kernelspec": {
   "display_name": "Python 3",
   "language": "python",
   "name": "python3"
  },
  "language_info": {
   "codemirror_mode": {
    "name": "ipython",
    "version": 3
   },
   "file_extension": ".py",
   "mimetype": "text/x-python",
   "name": "python",
   "nbconvert_exporter": "python",
   "pygments_lexer": "ipython3",
   "version": "3.6.7"
  }
 },
 "nbformat": 4,
 "nbformat_minor": 4
}
