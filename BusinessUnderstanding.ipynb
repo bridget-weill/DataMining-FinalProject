{
 "cells": [
  {
   "cell_type": "markdown",
   "metadata": {},
   "source": [
    "# Business Understanding"
   ]
  },
  {
   "cell_type": "markdown",
   "metadata": {},
   "source": [
    "**Research Questions:**\n",
    "1. *What are the most common traits that lead to a purchase on the site?*\n",
    "2. *What does the monthly/seasonal data tell us?*\n",
    "3. *How can the findings be applied to a real world problem?*\n",
    "4. *Which modeling technique works best with the dataset?*\n",
    "5. *Do certain browsers or operating systems lead to a purchase?*\n",
    "6. *Which variable predicts Revenue better, VisitorType or Special Day?* "
   ]
  },
  {
   "cell_type": "markdown",
   "metadata": {},
   "source": [
    "### Additional Research:"
   ]
  },
  {
   "cell_type": "markdown",
   "metadata": {},
   "source": [
    "There is a a ton of research out there regarding online shopper's purchasing intentions.  Platforms such as Google Analytics track multiple behaviors and indicators from users to help businesses learn the specific behavior trends and patterns that may lead to a user purchasing something on their site.  This can prove to be a highly valuable asset to the team's success, but it's a challenge to find insights.  Machine Learning gives businesses the tools to further analyze their site data and gain valuable insights that may lead to more sales down the road."
   ]
  }
 ],
 "metadata": {
  "kernelspec": {
   "display_name": "Python 3",
   "language": "python",
   "name": "python3"
  },
  "language_info": {
   "codemirror_mode": {
    "name": "ipython",
    "version": 3
   },
   "file_extension": ".py",
   "mimetype": "text/x-python",
   "name": "python",
   "nbconvert_exporter": "python",
   "pygments_lexer": "ipython3",
   "version": "3.6.7"
  }
 },
 "nbformat": 4,
 "nbformat_minor": 4
}
