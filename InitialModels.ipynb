{
 "cells": [
  {
   "cell_type": "markdown",
   "metadata": {},
   "source": [
    "# __Initial Models__"
   ]
  },
  {
   "cell_type": "markdown",
   "metadata": {},
   "source": [
    "#### This notebook outlines the completed pipelines, model codes, some model results, and next steps."
   ]
  },
  {
   "cell_type": "markdown",
   "metadata": {},
   "source": [
    "#### __1. Completed Pipelines:__\n",
    "Updated the [EDA](ExploratoryDataAnalysis.ipynb) to include binning and encoding to the categorical variable dataframe. Exported the completed EDA dataframes into csv files & used these csv's to standardize & normalize the data through the different pipelines.\n",
    "\n",
    "[Pipeline 1](Pipeline1.ipynb): Normalization -> Z Score -> 3 STD\n",
    "\n",
    "[Pipeline 2](Pipeline2.ipynb): IQR -> Min Max -> Normalization\n",
    "\n",
    "[Pipeline 3.1](Pipeline3.1.ipynb): IQR -> Normalization -> Z Score\n",
    "\n",
    "[Pipeline 3.2](Pipeline3.2.ipynb): Min Max -> Normalization -> 3 STD\n",
    "\n",
    "After completing the pipelines, the dataframes were joined back together and exported into a csv. These csv's will be put into the model codes in the next step."
   ]
  },
  {
   "cell_type": "markdown",
   "metadata": {},
   "source": [
    "#### __2. Models:__\n",
    "\n",
    "Model 1: Logistic Regression\n",
    "\n",
    "Model 2: ADA Boost\n",
    "\n",
    "Model 3: Random Forest\n",
    "\n",
    "Model 4: SVM\n",
    "\n",
    "Model 5: Decision Tree\n",
    "\n",
    "Model 6: XG Boost\n",
    "\n",
    "Next step in the modeling process is to finish importing each completed pipeline csv file into the rest of the models.\n",
    "\n",
    "After the models are run with the original data, a SMOTE code will be added to handle the unbalanced data and determine the difference between unbalanced and balanced data in a model.\n",
    "\n",
    "Then, model by model, determine which pipeline created the best results and take note of the results for the overall comparison of models."
   ]
  },
  {
   "cell_type": "markdown",
   "metadata": {},
   "source": [
    "#### __3. Model Results:__\n",
    "Attached are links to the Logistic Regression Model ran for each pipeline.\n",
    "\n",
    "Pipeline 1: [Logistic Regression](1LogisticRegression.ipynb)\n",
    "\n",
    "Pipeline 2: [Logistic Regression](2LogisticRegression.ipynb)\n",
    "\n",
    "Pipeline 3.1: [Logistic Regression](3.1LogisticRegression.ipynb)\n",
    "\n",
    "Pipeline 3.2: [Logistic Regression](3.2LogisticRegression.ipynb)\n",
    "\n",
    "The next step for these models will be adding more evaluation code and comparing them to one another to find the best overall results."
   ]
  },
  {
   "cell_type": "markdown",
   "metadata": {},
   "source": [
    "#### __4. Next Steps:__\n",
    "The next steps in this project include a lot of modeling and evaluating...\n",
    "- Run the 4 pipeline csv's through each model\n",
    "- Determine the most important features in the models along with the features that do not have much of an impact (Feature Selection code)\n",
    "- Include the F1 score and AUC code in the models for evaluations!\n",
    "- After determing the best pipeline for each model and the results, compare results to determine the overall best model and best pipeline."
   ]
  },
  {
   "cell_type": "code",
   "execution_count": null,
   "metadata": {},
   "outputs": [],
   "source": []
  }
 ],
 "metadata": {
  "kernelspec": {
   "display_name": "Python 3",
   "language": "python",
   "name": "python3"
  },
  "language_info": {
   "codemirror_mode": {
    "name": "ipython",
    "version": 3
   },
   "file_extension": ".py",
   "mimetype": "text/x-python",
   "name": "python",
   "nbconvert_exporter": "python",
   "pygments_lexer": "ipython3",
   "version": "3.6.7"
  }
 },
 "nbformat": 4,
 "nbformat_minor": 4
}
