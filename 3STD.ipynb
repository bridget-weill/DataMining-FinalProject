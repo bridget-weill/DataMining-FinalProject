{
 "cells": [
  {
   "cell_type": "markdown",
   "metadata": {},
   "source": [
    "# __Standard Deviation:__"
   ]
  },
  {
   "cell_type": "markdown",
   "metadata": {},
   "source": [
    "The Standard Deviation (3STD) measures the variation between each data point and the mean in a dataset. \n",
    "\n",
    "It is calculated via the following formula:\n",
    "\n",
    "\n",
    "![Standard Deviation Formula](https://miro.medium.com/max/528/1*fWLk5NLbJ3X0farGthyxQw.png)\n",
    "\n",
    "\n",
    "\n",
    "\n",
    "The standard deviation is used to determine and handle outliers.\n",
    "\n",
    "- A loop is then used to determine and replace the numbers outside the upper and lower bounds. standard deviation determines these upper and lower bounds through the following formulas:\n",
    "    - UpperBound = mean + 3(StandardDeviation)\n",
    "    - LowerBound = mean - 3(StandardDeviation)\n",
    "- Next, the for loop will replace the data outside of these bounds with the standard deviation\n",
    "    - If the value is > UpperBound, it will be replaced with the UpperBound value\n",
    "    - If the value is < LowerBound, it will be replaced with the LowerBound value\n",
    "- A box plot can be used to check the results, there should be no black dotted outliers on the plot anymore\n",
    "\n",
    "- Replace *data* with the name of the dataframe being used"
   ]
  },
  {
   "cell_type": "code",
   "execution_count": 5,
   "metadata": {},
   "outputs": [
    {
     "data": {
      "text/plain": [
       "63973.522229999995"
      ]
     },
     "execution_count": 5,
     "metadata": {},
     "output_type": "execute_result"
    }
   ],
   "source": [
    "data_cont['ProductRelated_Duration'].max()"
   ]
  },
  {
   "cell_type": "markdown",
   "metadata": {},
   "source": [
    "__Set the Upper Bound to 3 Standard Deviations Above the Mean:__"
   ]
  },
  {
   "cell_type": "code",
   "execution_count": null,
   "metadata": {},
   "outputs": [],
   "source": [
    "for col in data_cont.columns:\n",
    "    u_bound = data_cont[col].mean() + 3* data_cont[col].std()\n",
    "    data_cont[col][data_cont[col] > u_bound] = u_bound"
   ]
  },
  {
   "cell_type": "markdown",
   "metadata": {},
   "source": [
    "__Set the Lower Bound to 3 Standard Deviations Below the Mean:__"
   ]
  },
  {
   "cell_type": "code",
   "execution_count": 7,
   "metadata": {},
   "outputs": [],
   "source": [
    "for col in data_cont.columns:\n",
    "    l_bound = data_cont[col].mean() - 3*data_cont[col].std()\n",
    "    data_cont[col][data_cont[col] < l_bound] = l_bound"
   ]
  },
  {
   "cell_type": "markdown",
   "metadata": {},
   "source": [
    "__Boxplot:__"
   ]
  },
  {
   "cell_type": "code",
   "execution_count": null,
   "metadata": {},
   "outputs": [],
   "source": [
    "data_cont.boxplot(vert=False, figsize=(15,10))\n",
    "plt.title('Online Shoppers Intentions Box Plot')\n",
    "plt.show()"
   ]
  },
  {
   "cell_type": "code",
   "execution_count": 9,
   "metadata": {},
   "outputs": [
    {
     "data": {
      "text/plain": [
       "6935.754083584837"
      ]
     },
     "execution_count": 9,
     "metadata": {},
     "output_type": "execute_result"
    }
   ],
   "source": [
    "data_cont['ProductRelated_Duration'].max()"
   ]
  },
  {
   "cell_type": "markdown",
   "metadata": {},
   "source": [
    "__Source:__ \n",
    "\n",
    "https://towardsdatascience.com/using-standard-deviation-in-python-77872c32ba9b"
   ]
  },
  {
   "cell_type": "code",
   "execution_count": null,
   "metadata": {},
   "outputs": [],
   "source": []
  }
 ],
 "metadata": {
  "kernelspec": {
   "display_name": "Python 3",
   "language": "python",
   "name": "python3"
  },
  "language_info": {
   "codemirror_mode": {
    "name": "ipython",
    "version": 3
   },
   "file_extension": ".py",
   "mimetype": "text/x-python",
   "name": "python",
   "nbconvert_exporter": "python",
   "pygments_lexer": "ipython3",
   "version": "3.6.7"
  }
 },
 "nbformat": 4,
 "nbformat_minor": 4
}
