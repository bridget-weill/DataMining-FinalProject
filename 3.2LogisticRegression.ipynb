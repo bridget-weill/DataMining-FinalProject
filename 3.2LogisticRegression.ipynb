{
 "cells": [
  {
   "cell_type": "markdown",
   "metadata": {},
   "source": [
    "# __Logistic Regression__"
   ]
  },
  {
   "cell_type": "code",
   "execution_count": 1,
   "metadata": {},
   "outputs": [
    {
     "data": {
      "text/html": [
       "<div>\n",
       "<style scoped>\n",
       "    .dataframe tbody tr th:only-of-type {\n",
       "        vertical-align: middle;\n",
       "    }\n",
       "\n",
       "    .dataframe tbody tr th {\n",
       "        vertical-align: top;\n",
       "    }\n",
       "\n",
       "    .dataframe thead th {\n",
       "        text-align: right;\n",
       "    }\n",
       "</style>\n",
       "<table border=\"1\" class=\"dataframe\">\n",
       "  <thead>\n",
       "    <tr style=\"text-align: right;\">\n",
       "      <th></th>\n",
       "      <th>AdministrativeSkew</th>\n",
       "      <th>Administrative_DurationSkew</th>\n",
       "      <th>InformationalSkew</th>\n",
       "      <th>Informational_DurationSkew</th>\n",
       "      <th>ProductRelatedSkew</th>\n",
       "      <th>ProductRelated_DurationSkew</th>\n",
       "      <th>BounceRatesSkew</th>\n",
       "      <th>ExitRatesSkew</th>\n",
       "      <th>PageValuesSkew</th>\n",
       "      <th>SpecialDay_0.0</th>\n",
       "      <th>...</th>\n",
       "      <th>VisitorType_New_Visitor</th>\n",
       "      <th>VisitorType_Other</th>\n",
       "      <th>VisitorType_Returning_Visitor</th>\n",
       "      <th>Weekend_False</th>\n",
       "      <th>Weekend_True</th>\n",
       "      <th>SeasonBins_1</th>\n",
       "      <th>SeasonBins_2</th>\n",
       "      <th>SeasonBins_3</th>\n",
       "      <th>SeasonBins_4</th>\n",
       "      <th>RevenueEnc</th>\n",
       "    </tr>\n",
       "  </thead>\n",
       "  <tbody>\n",
       "    <tr>\n",
       "      <th>0</th>\n",
       "      <td>-0.0</td>\n",
       "      <td>-0.0</td>\n",
       "      <td>-0.0</td>\n",
       "      <td>-0.0</td>\n",
       "      <td>0.001399</td>\n",
       "      <td>-0.000000</td>\n",
       "      <td>0.339602</td>\n",
       "      <td>0.198950</td>\n",
       "      <td>-0.0</td>\n",
       "      <td>1</td>\n",
       "      <td>...</td>\n",
       "      <td>0</td>\n",
       "      <td>0</td>\n",
       "      <td>1</td>\n",
       "      <td>1</td>\n",
       "      <td>0</td>\n",
       "      <td>1</td>\n",
       "      <td>0</td>\n",
       "      <td>0</td>\n",
       "      <td>0</td>\n",
       "      <td>0</td>\n",
       "    </tr>\n",
       "    <tr>\n",
       "      <th>1</th>\n",
       "      <td>-0.0</td>\n",
       "      <td>-0.0</td>\n",
       "      <td>-0.0</td>\n",
       "      <td>-0.0</td>\n",
       "      <td>0.002761</td>\n",
       "      <td>0.031306</td>\n",
       "      <td>-0.000000</td>\n",
       "      <td>0.177272</td>\n",
       "      <td>-0.0</td>\n",
       "      <td>1</td>\n",
       "      <td>...</td>\n",
       "      <td>0</td>\n",
       "      <td>0</td>\n",
       "      <td>1</td>\n",
       "      <td>1</td>\n",
       "      <td>0</td>\n",
       "      <td>1</td>\n",
       "      <td>0</td>\n",
       "      <td>0</td>\n",
       "      <td>0</td>\n",
       "      <td>0</td>\n",
       "    </tr>\n",
       "    <tr>\n",
       "      <th>2</th>\n",
       "      <td>-0.0</td>\n",
       "      <td>-0.0</td>\n",
       "      <td>-0.0</td>\n",
       "      <td>-0.0</td>\n",
       "      <td>0.001399</td>\n",
       "      <td>-0.000000</td>\n",
       "      <td>0.339602</td>\n",
       "      <td>0.198950</td>\n",
       "      <td>-0.0</td>\n",
       "      <td>1</td>\n",
       "      <td>...</td>\n",
       "      <td>0</td>\n",
       "      <td>0</td>\n",
       "      <td>1</td>\n",
       "      <td>1</td>\n",
       "      <td>0</td>\n",
       "      <td>1</td>\n",
       "      <td>0</td>\n",
       "      <td>0</td>\n",
       "      <td>0</td>\n",
       "      <td>0</td>\n",
       "    </tr>\n",
       "    <tr>\n",
       "      <th>3</th>\n",
       "      <td>-0.0</td>\n",
       "      <td>-0.0</td>\n",
       "      <td>-0.0</td>\n",
       "      <td>-0.0</td>\n",
       "      <td>0.002761</td>\n",
       "      <td>0.006454</td>\n",
       "      <td>0.314382</td>\n",
       "      <td>0.190387</td>\n",
       "      <td>-0.0</td>\n",
       "      <td>1</td>\n",
       "      <td>...</td>\n",
       "      <td>0</td>\n",
       "      <td>0</td>\n",
       "      <td>1</td>\n",
       "      <td>1</td>\n",
       "      <td>0</td>\n",
       "      <td>1</td>\n",
       "      <td>0</td>\n",
       "      <td>0</td>\n",
       "      <td>0</td>\n",
       "      <td>0</td>\n",
       "    </tr>\n",
       "    <tr>\n",
       "      <th>4</th>\n",
       "      <td>-0.0</td>\n",
       "      <td>-0.0</td>\n",
       "      <td>-0.0</td>\n",
       "      <td>-0.0</td>\n",
       "      <td>0.012429</td>\n",
       "      <td>0.089834</td>\n",
       "      <td>0.254789</td>\n",
       "      <td>0.136293</td>\n",
       "      <td>-0.0</td>\n",
       "      <td>1</td>\n",
       "      <td>...</td>\n",
       "      <td>0</td>\n",
       "      <td>0</td>\n",
       "      <td>1</td>\n",
       "      <td>0</td>\n",
       "      <td>1</td>\n",
       "      <td>1</td>\n",
       "      <td>0</td>\n",
       "      <td>0</td>\n",
       "      <td>0</td>\n",
       "      <td>0</td>\n",
       "    </tr>\n",
       "  </tbody>\n",
       "</table>\n",
       "<p>5 rows × 75 columns</p>\n",
       "</div>"
      ],
      "text/plain": [
       "   AdministrativeSkew  Administrative_DurationSkew  InformationalSkew  \\\n",
       "0                -0.0                         -0.0               -0.0   \n",
       "1                -0.0                         -0.0               -0.0   \n",
       "2                -0.0                         -0.0               -0.0   \n",
       "3                -0.0                         -0.0               -0.0   \n",
       "4                -0.0                         -0.0               -0.0   \n",
       "\n",
       "   Informational_DurationSkew  ProductRelatedSkew  \\\n",
       "0                        -0.0            0.001399   \n",
       "1                        -0.0            0.002761   \n",
       "2                        -0.0            0.001399   \n",
       "3                        -0.0            0.002761   \n",
       "4                        -0.0            0.012429   \n",
       "\n",
       "   ProductRelated_DurationSkew  BounceRatesSkew  ExitRatesSkew  \\\n",
       "0                    -0.000000         0.339602       0.198950   \n",
       "1                     0.031306        -0.000000       0.177272   \n",
       "2                    -0.000000         0.339602       0.198950   \n",
       "3                     0.006454         0.314382       0.190387   \n",
       "4                     0.089834         0.254789       0.136293   \n",
       "\n",
       "   PageValuesSkew  SpecialDay_0.0  ...  VisitorType_New_Visitor  \\\n",
       "0            -0.0               1  ...                        0   \n",
       "1            -0.0               1  ...                        0   \n",
       "2            -0.0               1  ...                        0   \n",
       "3            -0.0               1  ...                        0   \n",
       "4            -0.0               1  ...                        0   \n",
       "\n",
       "   VisitorType_Other  VisitorType_Returning_Visitor  Weekend_False  \\\n",
       "0                  0                              1              1   \n",
       "1                  0                              1              1   \n",
       "2                  0                              1              1   \n",
       "3                  0                              1              1   \n",
       "4                  0                              1              0   \n",
       "\n",
       "   Weekend_True  SeasonBins_1  SeasonBins_2  SeasonBins_3  SeasonBins_4  \\\n",
       "0             0             1             0             0             0   \n",
       "1             0             1             0             0             0   \n",
       "2             0             1             0             0             0   \n",
       "3             0             1             0             0             0   \n",
       "4             1             1             0             0             0   \n",
       "\n",
       "   RevenueEnc  \n",
       "0           0  \n",
       "1           0  \n",
       "2           0  \n",
       "3           0  \n",
       "4           0  \n",
       "\n",
       "[5 rows x 75 columns]"
      ]
     },
     "execution_count": 1,
     "metadata": {},
     "output_type": "execute_result"
    }
   ],
   "source": [
    "# import required modules\n",
    "import pandas as pd\n",
    "from sklearn.model_selection import train_test_split\n",
    "from sklearn.linear_model import LogisticRegression\n",
    "from sklearn import metrics\n",
    "from sklearn.metrics import classification_report, confusion_matrix\n",
    "import pandas as pd\n",
    "from sklearn.metrics import roc_auc_score\n",
    "from sklearn.metrics import precision_recall_fscore_support\n",
    "import numpy as np\n",
    "\n",
    "# load dataset\n",
    "lgdata = pd.read_csv('pipeline3_2.csv', header=0)\n",
    "lgdata.head()"
   ]
  },
  {
   "cell_type": "markdown",
   "metadata": {},
   "source": [
    "### Feature Selection:\n",
    "- Top 38 Features"
   ]
  },
  {
   "cell_type": "markdown",
   "metadata": {},
   "source": [
    "### Divide Variables & Split Data\n",
    "\n",
    "Divide the given columns into two types of variables dependent(or target variable) and independent variable(or feature variables)."
   ]
  },
  {
   "cell_type": "code",
   "execution_count": 2,
   "metadata": {
    "collapsed": false
   },
   "outputs": [
    {
     "data": {
      "text/plain": [
       "array(['AdministrativeSkew', 'Administrative_DurationSkew',\n",
       "       'InformationalSkew', 'Informational_DurationSkew',\n",
       "       'ProductRelatedSkew', 'ProductRelated_DurationSkew',\n",
       "       'BounceRatesSkew', 'ExitRatesSkew', 'PageValuesSkew',\n",
       "       'SpecialDay_0.0', 'SpecialDay_0.2', 'SpecialDay_0.4',\n",
       "       'SpecialDay_0.6', 'SpecialDay_0.8', 'SpecialDay_1.0',\n",
       "       'OperatingSystems_1', 'OperatingSystems_2', 'OperatingSystems_3',\n",
       "       'OperatingSystems_4', 'OperatingSystems_5', 'OperatingSystems_6',\n",
       "       'OperatingSystems_7', 'OperatingSystems_8', 'Browser_1',\n",
       "       'Browser_2', 'Browser_3', 'Browser_4', 'Browser_5', 'Browser_6',\n",
       "       'Browser_7', 'Browser_8', 'Browser_9', 'Browser_10', 'Browser_11',\n",
       "       'Browser_12', 'Browser_13', 'Region_1', 'Region_2', 'Region_3',\n",
       "       'Region_4', 'Region_5', 'Region_6', 'Region_7', 'Region_8',\n",
       "       'Region_9', 'TrafficType_1', 'TrafficType_2', 'TrafficType_3',\n",
       "       'TrafficType_4', 'TrafficType_5', 'TrafficType_6', 'TrafficType_7',\n",
       "       'TrafficType_8', 'TrafficType_9', 'TrafficType_10',\n",
       "       'TrafficType_11', 'TrafficType_12', 'TrafficType_13',\n",
       "       'TrafficType_14', 'TrafficType_15', 'TrafficType_16',\n",
       "       'TrafficType_17', 'TrafficType_18', 'TrafficType_19',\n",
       "       'TrafficType_20', 'VisitorType_New_Visitor', 'VisitorType_Other',\n",
       "       'VisitorType_Returning_Visitor', 'Weekend_False', 'Weekend_True',\n",
       "       'SeasonBins_1', 'SeasonBins_2', 'SeasonBins_3', 'SeasonBins_4',\n",
       "       'RevenueEnc'], dtype=object)"
      ]
     },
     "execution_count": 2,
     "metadata": {},
     "output_type": "execute_result"
    }
   ],
   "source": [
    "lgdata.columns.values"
   ]
  },
  {
   "cell_type": "code",
   "execution_count": 3,
   "metadata": {},
   "outputs": [],
   "source": [
    "feature_cols = ['AdministrativeSkew', 'Administrative_DurationSkew',\n",
    "       'InformationalSkew', 'Informational_DurationSkew',\n",
    "       'ProductRelatedSkew', 'ProductRelated_DurationSkew',\n",
    "       'BounceRatesSkew', 'ExitRatesSkew', 'PageValuesSkew',\n",
    "       'SpecialDay_0.0', 'SpecialDay_0.2', 'SpecialDay_0.4',\n",
    "       'SpecialDay_0.6', 'SpecialDay_0.8', 'SpecialDay_1.0',\n",
    "       'OperatingSystems_1', 'OperatingSystems_2', 'OperatingSystems_3',\n",
    "       'OperatingSystems_4', 'OperatingSystems_5', 'OperatingSystems_6',\n",
    "       'OperatingSystems_7', 'OperatingSystems_8', 'Browser_1',\n",
    "       'Browser_2', 'Browser_3', 'Browser_4', 'Browser_5', 'Browser_6',\n",
    "       'Browser_7', 'Browser_8', 'Browser_9', 'Browser_10', 'Browser_11',\n",
    "       'Browser_12', 'Browser_13', 'Region_1', 'Region_2', 'Region_3',\n",
    "       'Region_4', 'Region_5', 'Region_6', 'Region_7', 'Region_8',\n",
    "       'Region_9', 'TrafficType_1', 'TrafficType_2', 'TrafficType_3',\n",
    "       'TrafficType_4', 'TrafficType_5', 'TrafficType_6', 'TrafficType_7',\n",
    "       'TrafficType_8', 'TrafficType_9', 'TrafficType_10',\n",
    "       'TrafficType_11', 'TrafficType_12', 'TrafficType_13',\n",
    "       'TrafficType_14', 'TrafficType_15', 'TrafficType_16',\n",
    "       'TrafficType_17', 'TrafficType_18', 'TrafficType_19',\n",
    "       'TrafficType_20', 'VisitorType_New_Visitor', 'VisitorType_Other',\n",
    "       'VisitorType_Returning_Visitor', 'Weekend_False', 'Weekend_True',\n",
    "       'SeasonBins_1', 'SeasonBins_2', 'SeasonBins_3', 'SeasonBins_4',\n",
    "       'RevenueEnc']\n",
    "X = lgdata[feature_cols] # Features\n",
    "y = lgdata.RevenueEnc # Target variable"
   ]
  },
  {
   "cell_type": "code",
   "execution_count": 23,
   "metadata": {},
   "outputs": [],
   "source": [
    "feature_cols = ['AdministrativeSkew', 'Administrative_DurationSkew','ProductRelatedSkew',\n",
    "'ProductRelated_DurationSkew','BounceRatesSkew', 'ExitRatesSkew',\n",
    "'PageValuesSkew','SpecialDay_0.8','Browser_3','Browser_12','Browser_13',\n",
    "                'TrafficType_7','TrafficType_8','TrafficType_11', 'TrafficType_13']\n",
    "X = lgdata[feature_cols] # Features\n",
    "y = lgdata.RevenueEnc # Target variable"
   ]
  },
  {
   "cell_type": "code",
   "execution_count": null,
   "metadata": {},
   "outputs": [],
   "source": [
    "'AdministrativeSkew', 'Administrative_DurationSkew','ProductRelatedSkew',\n",
    "'ProductRelated_DurationSkew','BounceRatesSkew', 'ExitRatesSkew',\n",
    "'PageValuesSkew','SpecialDay_0.8','Browser_3','Browser_12'"
   ]
  },
  {
   "cell_type": "code",
   "execution_count": 3,
   "metadata": {
    "collapsed": true
   },
   "outputs": [],
   "source": [
    "feature_cols = ['AdministrativeSkew', 'Administrative_DurationSkew',\n",
    "                'ProductRelatedSkew', 'ProductRelated_DurationSkew',\n",
    "                'BounceRatesSkew', 'ExitRatesSkew', 'PageValuesSkew',\n",
    "                'SpecialDay_0.8','Browser_3','Browser_12', 'Browser_13',\n",
    "                'TrafficType_7','TrafficType_8','TrafficType_11', 'TrafficType_13',\n",
    "                'TrafficType_15','TrafficType_18','TrafficType_20','SeasonBins_1', \n",
    "                'SeasonBins_2','TrafficType_10','TrafficType_2','TrafficType_5',\n",
    "                'TrafficType_16','TrafficType_4','SeasonBins_4','SpecialDay_0.6',\n",
    "                'SpecialDay_0.0','VisitorType_New_Visitor','InformationalSkew','SpecialDay_0.4',\n",
    "               'Browser_6','Browser_7','OperatingSystems_2','Region_9','Informational_DurationSkew',\n",
    "               'Browser_2','TrafficType_3']\n",
    "X = lgdata[feature_cols] # Features\n",
    "y = lgdata.RevenueEnc # Target variable"
   ]
  },
  {
   "cell_type": "markdown",
   "metadata": {},
   "source": [
    "### Split Data\n",
    "\n",
    "Divide the dataset into a training set and a test set. Use function train_test_split(). Pass 3 parameters features, target, and test_set size. (can use random_state to select records randomly). 75% of the data will be used for model training and 25% for model testing in this model."
   ]
  },
  {
   "cell_type": "code",
   "execution_count": 4,
   "metadata": {
    "collapsed": false
   },
   "outputs": [],
   "source": [
    "# split X and y into training and testing sets\n",
    "X_train,X_test,y_train,y_test=train_test_split(X,y,test_size=0.25,random_state=2019)"
   ]
  },
  {
   "cell_type": "markdown",
   "metadata": {},
   "source": [
    "### Model Development and Prediction\n",
    "\n",
    "Import the Logistic Regression module and create a Logistic Regression classifier object using LogisticRegression() function. Fit your model on the train set using fit() and perform prediction on the test set using predict()."
   ]
  },
  {
   "cell_type": "code",
   "execution_count": 5,
   "metadata": {
    "collapsed": true
   },
   "outputs": [],
   "source": [
    "# instantiate the model (using the default parameters)\n",
    "logreg = LogisticRegression()\n",
    "\n",
    "# fit the model with data\n",
    "logreg.fit(X_train,y_train)\n",
    "\n",
    "# predict the model\n",
    "y_pred=logreg.predict(X_test)"
   ]
  },
  {
   "cell_type": "markdown",
   "metadata": {},
   "source": [
    "### Confusion Matrix\n",
    "A confusion matrix is used to evaluate the performance of a classification model. \n",
    "\n",
    "The dimension of this matrix is 2x2 because this model is binary classification (0 and 1). Diagonal values are accurate predictions, non-diagonal elements are inaccurate predictions. In the output, 2474 and 271 are actual predictions, and 195 and 143 are incorrect predictions."
   ]
  },
  {
   "cell_type": "code",
   "execution_count": 6,
   "metadata": {
    "collapsed": false
   },
   "outputs": [
    {
     "data": {
      "text/plain": [
       "array([[2617,    0],\n",
       "       [   0,  466]])"
      ]
     },
     "execution_count": 6,
     "metadata": {},
     "output_type": "execute_result"
    }
   ],
   "source": [
    "cnf_matrix = metrics.confusion_matrix(y_test, y_pred)\n",
    "cnf_matrix"
   ]
  },
  {
   "cell_type": "markdown",
   "metadata": {},
   "source": [
    "### Evaluation Metrics"
   ]
  },
  {
   "cell_type": "code",
   "execution_count": 7,
   "metadata": {
    "collapsed": false
   },
   "outputs": [
    {
     "name": "stdout",
     "output_type": "stream",
     "text": [
      "F1_Score: 1.0\n",
      "AUC: 1.0\n",
      "              precision    recall  f1-score   support\n",
      "\n",
      "           0       1.00      1.00      1.00      2617\n",
      "           1       1.00      1.00      1.00       466\n",
      "\n",
      "    accuracy                           1.00      3083\n",
      "   macro avg       1.00      1.00      1.00      3083\n",
      "weighted avg       1.00      1.00      1.00      3083\n",
      "\n"
     ]
    }
   ],
   "source": [
    "print(\"F1_Score:\",metrics.f1_score(y_test, y_pred))\n",
    "print(\"AUC:\",metrics.roc_auc_score(y_test, y_pred))\n",
    "print(classification_report(y_test, y_pred))"
   ]
  },
  {
   "cell_type": "markdown",
   "metadata": {},
   "source": [
    "## __SMOTE__"
   ]
  },
  {
   "cell_type": "code",
   "execution_count": 8,
   "metadata": {},
   "outputs": [
    {
     "name": "stderr",
     "output_type": "stream",
     "text": [
      "/opt/tljh/user/lib/python3.6/site-packages/sklearn/utils/deprecation.py:144: FutureWarning: The sklearn.neighbors.base module is  deprecated in version 0.22 and will be removed in version 0.24. The corresponding classes / functions should instead be imported from sklearn.neighbors. Anything that cannot be imported from sklearn.neighbors is now part of the private API.\n",
      "  warnings.warn(message, FutureWarning)\n",
      "/opt/tljh/user/lib/python3.6/site-packages/sklearn/utils/deprecation.py:144: FutureWarning: The sklearn.ensemble.bagging module is  deprecated in version 0.22 and will be removed in version 0.24. The corresponding classes / functions should instead be imported from sklearn.ensemble. Anything that cannot be imported from sklearn.ensemble is now part of the private API.\n",
      "  warnings.warn(message, FutureWarning)\n",
      "/opt/tljh/user/lib/python3.6/site-packages/sklearn/utils/deprecation.py:144: FutureWarning: The sklearn.ensemble.base module is  deprecated in version 0.22 and will be removed in version 0.24. The corresponding classes / functions should instead be imported from sklearn.ensemble. Anything that cannot be imported from sklearn.ensemble is now part of the private API.\n",
      "  warnings.warn(message, FutureWarning)\n",
      "/opt/tljh/user/lib/python3.6/site-packages/sklearn/utils/deprecation.py:144: FutureWarning: The sklearn.ensemble.forest module is  deprecated in version 0.22 and will be removed in version 0.24. The corresponding classes / functions should instead be imported from sklearn.ensemble. Anything that cannot be imported from sklearn.ensemble is now part of the private API.\n",
      "  warnings.warn(message, FutureWarning)\n",
      "/opt/tljh/user/lib/python3.6/site-packages/sklearn/utils/deprecation.py:144: FutureWarning: The sklearn.utils.testing module is  deprecated in version 0.22 and will be removed in version 0.24. The corresponding classes / functions should instead be imported from sklearn.utils. Anything that cannot be imported from sklearn.utils is now part of the private API.\n",
      "  warnings.warn(message, FutureWarning)\n",
      "/opt/tljh/user/lib/python3.6/site-packages/sklearn/utils/deprecation.py:144: FutureWarning: The sklearn.metrics.classification module is  deprecated in version 0.22 and will be removed in version 0.24. The corresponding classes / functions should instead be imported from sklearn.metrics. Anything that cannot be imported from sklearn.metrics is now part of the private API.\n",
      "  warnings.warn(message, FutureWarning)\n",
      "/opt/tljh/user/lib/python3.6/site-packages/sklearn/utils/deprecation.py:87: FutureWarning: Function safe_indexing is deprecated; safe_indexing is deprecated in version 0.22 and will be removed in version 0.24.\n",
      "  warnings.warn(msg, category=FutureWarning)\n"
     ]
    }
   ],
   "source": [
    "from imblearn.over_sampling import SMOTE\n",
    "\n",
    "sm = SMOTE(random_state = 123) \n",
    "X_train_smote, y_train_smote = sm.fit_sample(X_train, y_train) "
   ]
  },
  {
   "cell_type": "code",
   "execution_count": 9,
   "metadata": {},
   "outputs": [],
   "source": [
    "# instantiate the model (using the default parameters)\n",
    "logreg = LogisticRegression()\n",
    "\n",
    "# fit the model with data\n",
    "logreg.fit(X_train_smote,y_train_smote)\n",
    "\n",
    "# predict the model\n",
    "y_pred=logreg.predict(X_test)"
   ]
  },
  {
   "cell_type": "code",
   "execution_count": 10,
   "metadata": {},
   "outputs": [
    {
     "data": {
      "text/plain": [
       "array([[2617,    0],\n",
       "       [   0,  466]])"
      ]
     },
     "execution_count": 10,
     "metadata": {},
     "output_type": "execute_result"
    }
   ],
   "source": [
    "cnf_matrix = metrics.confusion_matrix(y_test, y_pred)\n",
    "cnf_matrix"
   ]
  },
  {
   "cell_type": "code",
   "execution_count": 11,
   "metadata": {},
   "outputs": [
    {
     "name": "stdout",
     "output_type": "stream",
     "text": [
      "F1_Score: 1.0\n",
      "AUC: 1.0\n",
      "              precision    recall  f1-score   support\n",
      "\n",
      "           0       1.00      1.00      1.00      2617\n",
      "           1       1.00      1.00      1.00       466\n",
      "\n",
      "    accuracy                           1.00      3083\n",
      "   macro avg       1.00      1.00      1.00      3083\n",
      "weighted avg       1.00      1.00      1.00      3083\n",
      "\n"
     ]
    }
   ],
   "source": [
    "print(\"F1_Score:\",metrics.f1_score(y_test, y_pred))\n",
    "print(\"AUC:\",metrics.roc_auc_score(y_test, y_pred))\n",
    "print(classification_report(y_test, y_pred))"
   ]
  },
  {
   "cell_type": "code",
   "execution_count": null,
   "metadata": {},
   "outputs": [],
   "source": []
  },
  {
   "cell_type": "code",
   "execution_count": null,
   "metadata": {},
   "outputs": [],
   "source": []
  }
 ],
 "metadata": {
  "kernelspec": {
   "display_name": "Python 3",
   "language": "python",
   "name": "python3"
  },
  "language_info": {
   "codemirror_mode": {
    "name": "ipython",
    "version": 3
   },
   "file_extension": ".py",
   "mimetype": "text/x-python",
   "name": "python",
   "nbconvert_exporter": "python",
   "pygments_lexer": "ipython3",
   "version": "3.6.7"
  }
 },
 "nbformat": 4,
 "nbformat_minor": 4
}
